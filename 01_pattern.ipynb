{
 "cells": [
  {
   "cell_type": "markdown",
   "id": "65b3a5d4",
   "metadata": {},
   "source": [
    "# 01_pattern\n",
    "\n",
    "> Hyphenation patterns"
   ]
  },
  {
   "cell_type": "code",
   "execution_count": null,
   "id": "242448fc",
   "metadata": {},
   "outputs": [],
   "source": [
    "#| default_exp pattern"
   ]
  },
  {
   "cell_type": "code",
   "execution_count": null,
   "id": "b8c02a1d",
   "metadata": {},
   "outputs": [],
   "source": [
    "#| hide\n",
    "from nbdev.showdoc import *"
   ]
  },
  {
   "cell_type": "code",
   "execution_count": null,
   "id": "cf34ff4f",
   "metadata": {},
   "outputs": [],
   "source": [
    "#| export\n",
    "import re, string\n",
    "import itertools as it\n",
    "from collections.abc import Iterable, Mapping"
   ]
  },
  {
   "cell_type": "markdown",
   "id": "e8fc5508",
   "metadata": {},
   "source": [
    "TeX patterns look like `2a1ly4`. There are letters and numbers, and the numbers\n",
    "denote weights that fall between the letters, also before the first letter and\n",
    "after the last letter:\n",
    "\n",
    "| | | | | | | |\n",
    "|-|-|-|-|-|-|-|\n",
    "| |a| |l| |y| |\n",
    "|2| |1| |0| |4|\n",
    "\n",
    "Missing numbers mean zero."
   ]
  },
  {
   "cell_type": "code",
   "execution_count": null,
   "id": "e1df8cef",
   "metadata": {},
   "outputs": [],
   "source": [
    "#| exporti\n",
    "def _cvt(\n",
    "    pattern: str  # pattern as read from the TeX patterns file\n",
    ") -> tuple[int, ...]:  # position i has the weight of the slot before character i\n",
    "    res = [0 for _ in pattern]\n",
    "    pos = 0\n",
    "    for ch in pattern:\n",
    "        if ch in string.digits:\n",
    "            res[pos] = int(ch)\n",
    "        else:\n",
    "            pos += 1\n",
    "    return tuple(res[:pos+1])"
   ]
  },
  {
   "cell_type": "code",
   "execution_count": null,
   "id": "577fe315",
   "metadata": {},
   "outputs": [
    {
     "data": {
      "text/markdown": [
       "---\n",
       "\n",
       "[source](https://github.com/jkseppan/shyster/blob/main/shyster/pattern.py#L12){target=\"_blank\" style=\"float:right; font-size:smaller\"}\n",
       "\n",
       "### _cvt\n",
       "\n",
       ">      _cvt (pattern:str)\n",
       "\n",
       "|    | **Type** | **Details** |\n",
       "| -- | -------- | ----------- |\n",
       "| pattern | str | pattern as read from the TeX patterns file |\n",
       "| **Returns** | **tuple** | **position i has the weight of the slot before character i** |"
      ],
      "text/plain": [
       "---\n",
       "\n",
       "[source](https://github.com/jkseppan/shyster/blob/main/shyster/pattern.py#L12){target=\"_blank\" style=\"float:right; font-size:smaller\"}\n",
       "\n",
       "### _cvt\n",
       "\n",
       ">      _cvt (pattern:str)\n",
       "\n",
       "|    | **Type** | **Details** |\n",
       "| -- | -------- | ----------- |\n",
       "| pattern | str | pattern as read from the TeX patterns file |\n",
       "| **Returns** | **tuple** | **position i has the weight of the slot before character i** |"
      ]
     },
     "execution_count": null,
     "metadata": {},
     "output_type": "execute_result"
    }
   ],
   "source": [
    "show_doc(_cvt)"
   ]
  },
  {
   "cell_type": "markdown",
   "id": "f9e6c891",
   "metadata": {},
   "source": [
    "The following function turns many patterns into one regular expression\n",
    "that matches zero-width strings but whose first group has the matched\n",
    "pattern. (The zero-widthness is because `re.findall` only finds non-\n",
    "overlapping matches.) Along with that regexp, it returns a mapping from\n",
    "matched patterns to their weights."
   ]
  },
  {
   "cell_type": "code",
   "execution_count": null,
   "id": "45f40d9a",
   "metadata": {},
   "outputs": [],
   "source": [
    "#| export\n",
    "def convert_patterns(\n",
    "    patterns: Iterable[str]  # patterns as read from the TeX patterns file\n",
    ") -> tuple[re.Pattern, Mapping[str, tuple[int, ...]]]:  # regex for patterns, and mapping from pattern to weights\n",
    "    regexes = []\n",
    "    mapping = {}\n",
    "    for p in patterns:\n",
    "        # replace dot with a control character unlikely to appear in words (ASCII unit separator)\n",
    "        p = p.replace('.', '\\x1f')\n",
    "        s = re.sub('[0-9]', '', p)\n",
    "        regexes.append(s)\n",
    "        mapping[s] = _cvt(p)\n",
    "    return re.compile(f\"(?=({'|'.join(regexes)}))\"), mapping"
   ]
  },
  {
   "cell_type": "code",
   "execution_count": null,
   "id": "42de27e4",
   "metadata": {},
   "outputs": [
    {
     "data": {
      "text/markdown": [
       "---\n",
       "\n",
       "[source](https://github.com/jkseppan/shyster/blob/main/shyster/pattern.py#L25){target=\"_blank\" style=\"float:right; font-size:smaller\"}\n",
       "\n",
       "### convert_patterns\n",
       "\n",
       ">      convert_patterns (patterns:collections.abc.Iterable[str])\n",
       "\n",
       "|    | **Type** | **Details** |\n",
       "| -- | -------- | ----------- |\n",
       "| patterns | Iterable | patterns as read from the TeX patterns file |\n",
       "| **Returns** | **tuple** | **regex for patterns, and mapping from pattern to weights** |"
      ],
      "text/plain": [
       "---\n",
       "\n",
       "[source](https://github.com/jkseppan/shyster/blob/main/shyster/pattern.py#L25){target=\"_blank\" style=\"float:right; font-size:smaller\"}\n",
       "\n",
       "### convert_patterns\n",
       "\n",
       ">      convert_patterns (patterns:collections.abc.Iterable[str])\n",
       "\n",
       "|    | **Type** | **Details** |\n",
       "| -- | -------- | ----------- |\n",
       "| patterns | Iterable | patterns as read from the TeX patterns file |\n",
       "| **Returns** | **tuple** | **regex for patterns, and mapping from pattern to weights** |"
      ]
     },
     "execution_count": null,
     "metadata": {},
     "output_type": "execute_result"
    }
   ],
   "source": [
    "show_doc(convert_patterns)"
   ]
  },
  {
   "cell_type": "code",
   "execution_count": null,
   "id": "4b7204be",
   "metadata": {},
   "outputs": [],
   "source": [
    "assert convert_patterns(['1ba', '1be', 'ch2r', '.ä2']) == (\n",
    "    re.compile('(?=(ba|be|chr|\\x1Fä))'),\n",
    "    {'ba': (1,0,0), 'be': (1,0,0), 'chr': (0,0,2,0), '\\x1Fä': (0,0,2)})"
   ]
  },
  {
   "cell_type": "markdown",
   "id": "f549d64b",
   "metadata": {},
   "source": [
    "TeX exceptions are simply words with hyphens where hyphenation should happen."
   ]
  },
  {
   "cell_type": "code",
   "execution_count": null,
   "id": "f2e37ccc",
   "metadata": {},
   "outputs": [],
   "source": [
    "#| export\n",
    "def convert_exceptions(\n",
    "    exceptions: Iterable[str]\n",
    ") -> Mapping[str, str]:  # mapping from word to word with hyphens\n",
    "    return {w.replace('-', ''): w for w in exceptions}"
   ]
  },
  {
   "cell_type": "code",
   "execution_count": null,
   "id": "c5f0ca70",
   "metadata": {},
   "outputs": [
    {
     "data": {
      "text/markdown": [
       "---\n",
       "\n",
       "[source](https://github.com/jkseppan/shyster/blob/main/shyster/pattern.py#L39){target=\"_blank\" style=\"float:right; font-size:smaller\"}\n",
       "\n",
       "### convert_exceptions\n",
       "\n",
       ">      convert_exceptions (exceptions:collections.abc.Iterable[str])\n",
       "\n",
       "|    | **Type** | **Details** |\n",
       "| -- | -------- | ----------- |\n",
       "| exceptions | Iterable |  |\n",
       "| **Returns** | **Mapping** | **mapping from word to word with hyphens** |"
      ],
      "text/plain": [
       "---\n",
       "\n",
       "[source](https://github.com/jkseppan/shyster/blob/main/shyster/pattern.py#L39){target=\"_blank\" style=\"float:right; font-size:smaller\"}\n",
       "\n",
       "### convert_exceptions\n",
       "\n",
       ">      convert_exceptions (exceptions:collections.abc.Iterable[str])\n",
       "\n",
       "|    | **Type** | **Details** |\n",
       "| -- | -------- | ----------- |\n",
       "| exceptions | Iterable |  |\n",
       "| **Returns** | **Mapping** | **mapping from word to word with hyphens** |"
      ]
     },
     "execution_count": null,
     "metadata": {},
     "output_type": "execute_result"
    }
   ],
   "source": [
    "show_doc(convert_exceptions)"
   ]
  },
  {
   "cell_type": "code",
   "execution_count": null,
   "id": "7edd3be7",
   "metadata": {},
   "outputs": [],
   "source": [
    "assert convert_exceptions(['saippua-kauppias', 'xyzzy']) == {'saippuakauppias': 'saippua-kauppias', 'xyzzy': 'xyzzy'}"
   ]
  },
  {
   "cell_type": "code",
   "execution_count": null,
   "id": "896ccc5a",
   "metadata": {},
   "outputs": [],
   "source": [
    "#| hide\n",
    "import nbdev; nbdev.nbdev_export()"
   ]
  }
 ],
 "metadata": {
  "kernelspec": {
   "display_name": "Python 3 (ipykernel)",
   "language": "python",
   "name": "python3"
  }
 },
 "nbformat": 4,
 "nbformat_minor": 5
}
