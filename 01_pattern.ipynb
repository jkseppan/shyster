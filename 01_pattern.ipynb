{
 "cells": [
  {
   "cell_type": "markdown",
   "id": "3ca3e7b8",
   "metadata": {},
   "source": [
    "# 01_pattern\n",
    "\n",
    "> Hyphenation patterns"
   ]
  },
  {
   "cell_type": "code",
   "execution_count": null,
   "id": "c5c27c0b",
   "metadata": {},
   "outputs": [],
   "source": [
    "#| default_exp pattern"
   ]
  },
  {
   "cell_type": "code",
   "execution_count": null,
   "id": "e3c7a9e8",
   "metadata": {},
   "outputs": [],
   "source": [
    "#| hide\n",
    "from nbdev.showdoc import *\n",
    "import re, string\n",
    "import itertools as it"
   ]
  },
  {
   "cell_type": "code",
   "execution_count": null,
   "id": "b21cb789",
   "metadata": {},
   "outputs": [],
   "source": [
    "#| exporti\n",
    "def _cvt(pattern):\n",
    "    res = [0 for _ in pattern]\n",
    "    pos = 0\n",
    "    for ch in pattern:\n",
    "        if ch in string.digits:\n",
    "            res[pos] = int(ch)\n",
    "        else:\n",
    "            pos += 1\n",
    "    return tuple(res[:pos+1])"
   ]
  },
  {
   "cell_type": "code",
   "execution_count": null,
   "id": "2d09cd68",
   "metadata": {},
   "outputs": [],
   "source": [
    "#| export\n",
    "def convert_patterns(patterns):\n",
    "    regexes = []\n",
    "    mapping = {}\n",
    "    for p in patterns:\n",
    "        # replace dot with a control character unlikely to appear in words (ASCII unit separator)\n",
    "        p = p.replace('.', '\\x1f')\n",
    "        s = re.sub('[0-9]', '', p)\n",
    "        regexes.append(s)\n",
    "        mapping[s] = _cvt(p)\n",
    "    return re.compile(f\"(?=({'|'.join(regexes)}))\"), mapping"
   ]
  },
  {
   "cell_type": "code",
   "execution_count": null,
   "id": "5b878097",
   "metadata": {},
   "outputs": [],
   "source": [
    "assert convert_patterns(['1ba', '1be', 'ch2r', '.ä2']) == (\n",
    "    re.compile('(?=(ba|be|chr|\\x1Fä))'),\n",
    "    {'ba': (1,0,0), 'be': (1,0,0), 'chr': (0,0,2,0), '\\x1Fä': (0,0,2)})"
   ]
  },
  {
   "cell_type": "code",
   "execution_count": null,
   "id": "081221a9",
   "metadata": {},
   "outputs": [],
   "source": [
    "#| export\n",
    "def convert_exceptions(exceptions):\n",
    "    return {w.replace('-', ''): w for w in exceptions}"
   ]
  },
  {
   "cell_type": "code",
   "execution_count": null,
   "id": "c7a58d78",
   "metadata": {},
   "outputs": [],
   "source": [
    "assert convert_exceptions(['saippua-kauppias', 'xyzzy']) == {'saippuakauppias': 'saippua-kauppias', 'xyzzy': 'xyzzy'}"
   ]
  },
  {
   "cell_type": "code",
   "execution_count": null,
   "id": "d31ee9dd",
   "metadata": {},
   "outputs": [],
   "source": [
    "#| hide\n",
    "import nbdev; nbdev.nbdev_export()"
   ]
  },
  {
   "cell_type": "code",
   "execution_count": null,
   "id": "2c8a8d14",
   "metadata": {},
   "outputs": [],
   "source": []
  }
 ],
 "metadata": {
  "kernelspec": {
   "display_name": "Python 3 (ipykernel)",
   "language": "python",
   "name": "python3"
  }
 },
 "nbformat": 4,
 "nbformat_minor": 5
}
