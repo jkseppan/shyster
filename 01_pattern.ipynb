{
 "cells": [
  {
   "cell_type": "markdown",
   "id": "65b3a5d4",
   "metadata": {},
   "source": [
    "# 01_pattern\n",
    "\n",
    "> Hyphenation patterns"
   ]
  },
  {
   "cell_type": "code",
   "execution_count": null,
   "id": "242448fc",
   "metadata": {},
   "outputs": [],
   "source": [
    "#| default_exp pattern"
   ]
  },
  {
   "cell_type": "code",
   "execution_count": null,
   "id": "b8c02a1d",
   "metadata": {},
   "outputs": [],
   "source": [
    "#| hide\n",
    "from nbdev.showdoc import *\n",
    "from fastcore.test import *"
   ]
  },
  {
   "cell_type": "code",
   "execution_count": null,
   "id": "cf34ff4f",
   "metadata": {},
   "outputs": [],
   "source": [
    "#| export\n",
    "import string, re\n",
    "import itertools as it\n",
    "from collections.abc import Iterable, Mapping\n",
    "import datrie  # type: ignore"
   ]
  },
  {
   "cell_type": "markdown",
   "id": "e8fc5508",
   "metadata": {},
   "source": [
    "TeX patterns look like `2a1ly4`. There are letters and numbers, and the numbers\n",
    "denote weights that fall between the letters, also before the first letter and\n",
    "after the last letter:\n",
    "\n",
    "| | | | | | | |\n",
    "|-|-|-|-|-|-|-|\n",
    "| |a| |l| |y| |\n",
    "|2| |1| |0| |4|\n",
    "\n",
    "Missing numbers mean zero."
   ]
  },
  {
   "cell_type": "code",
   "execution_count": null,
   "id": "e1df8cef",
   "metadata": {},
   "outputs": [],
   "source": [
    "#| exporti\n",
    "def _cvt(\n",
    "    pattern: str  # pattern as read from the TeX patterns file\n",
    ") -> tuple[int, ...]:  # position i has the weight of the slot before character i\n",
    "    res = [0 for _ in pattern]\n",
    "    pos = 0\n",
    "    for ch in pattern:\n",
    "        if ch in string.digits:\n",
    "            res[pos] = int(ch)\n",
    "        else:\n",
    "            pos += 1\n",
    "    return tuple(res[:pos+1])"
   ]
  },
  {
   "cell_type": "code",
   "execution_count": null,
   "id": "577fe315",
   "metadata": {},
   "outputs": [
    {
     "data": {
      "text/markdown": [
       "---\n",
       "\n",
       "[source](https://github.com/jkseppan/shyster/blob/main/shyster/pattern.py#L13){target=\"_blank\" style=\"float:right; font-size:smaller\"}\n",
       "\n",
       "### _cvt\n",
       "\n",
       ">      _cvt (pattern:str)\n",
       "\n",
       "|    | **Type** | **Details** |\n",
       "| -- | -------- | ----------- |\n",
       "| pattern | str | pattern as read from the TeX patterns file |\n",
       "| **Returns** | **tuple** | **position i has the weight of the slot before character i** |"
      ],
      "text/plain": [
       "---\n",
       "\n",
       "[source](https://github.com/jkseppan/shyster/blob/main/shyster/pattern.py#L13){target=\"_blank\" style=\"float:right; font-size:smaller\"}\n",
       "\n",
       "### _cvt\n",
       "\n",
       ">      _cvt (pattern:str)\n",
       "\n",
       "|    | **Type** | **Details** |\n",
       "| -- | -------- | ----------- |\n",
       "| pattern | str | pattern as read from the TeX patterns file |\n",
       "| **Returns** | **tuple** | **position i has the weight of the slot before character i** |"
      ]
     },
     "execution_count": null,
     "metadata": {},
     "output_type": "execute_result"
    }
   ],
   "source": [
    "show_doc(_cvt)"
   ]
  },
  {
   "cell_type": "markdown",
   "id": "f9e6c891",
   "metadata": {},
   "source": [
    "The following function turns many patterns into one trie."
   ]
  },
  {
   "cell_type": "code",
   "execution_count": null,
   "id": "45f40d9a",
   "metadata": {},
   "outputs": [],
   "source": [
    "#| export\n",
    "def convert_patterns(\n",
    "    patterns: Iterable[str]  # TeX style patterns\n",
    ") -> datrie.Trie:  # trie mapping matched substrings to weights\n",
    "    num = re.compile('[0-9]')\n",
    "    patterns = sorted(patterns, key=lambda x: num.sub('', x))\n",
    "    alphabet = set(it.chain.from_iterable(patterns)) - set(string.digits) | {'\\x1F'}\n",
    "    trie = datrie.Trie(alphabet)\n",
    "    for pat in patterns:\n",
    "        pat = pat.replace('.', '\\x1f')\n",
    "        trie[num.sub('', pat)] = _cvt(pat)\n",
    "    return trie"
   ]
  },
  {
   "cell_type": "code",
   "execution_count": null,
   "id": "42de27e4",
   "metadata": {},
   "outputs": [
    {
     "data": {
      "text/markdown": [
       "---\n",
       "\n",
       "[source](https://github.com/jkseppan/shyster/blob/main/shyster/pattern.py#L26){target=\"_blank\" style=\"float:right; font-size:smaller\"}\n",
       "\n",
       "### convert_patterns\n",
       "\n",
       ">      convert_patterns (patterns:collections.abc.Iterable[str])\n",
       "\n",
       "|    | **Type** | **Details** |\n",
       "| -- | -------- | ----------- |\n",
       "| patterns | Iterable | TeX style patterns |\n",
       "| **Returns** | **Trie** | **trie mapping matched substrings to weights** |"
      ],
      "text/plain": [
       "---\n",
       "\n",
       "[source](https://github.com/jkseppan/shyster/blob/main/shyster/pattern.py#L26){target=\"_blank\" style=\"float:right; font-size:smaller\"}\n",
       "\n",
       "### convert_patterns\n",
       "\n",
       ">      convert_patterns (patterns:collections.abc.Iterable[str])\n",
       "\n",
       "|    | **Type** | **Details** |\n",
       "| -- | -------- | ----------- |\n",
       "| patterns | Iterable | TeX style patterns |\n",
       "| **Returns** | **Trie** | **trie mapping matched substrings to weights** |"
      ]
     },
     "execution_count": null,
     "metadata": {},
     "output_type": "execute_result"
    }
   ],
   "source": [
    "show_doc(convert_patterns)"
   ]
  },
  {
   "cell_type": "code",
   "execution_count": null,
   "id": "3de36ee8",
   "metadata": {},
   "outputs": [],
   "source": [
    "t = convert_patterns('''4m1p pu2t 5pute put3er\n",
    "l1g4 lgo3 igo 2ith 4hm\n",
    "hy3ph he2n hena4 hen5at ina n2at itio 2io'''.split())\n",
    "test_eq(t.prefix_items('puter'), \n",
    "       [('put', (0, 0, 2, 0)),\n",
    "        ('pute', (5, 0, 0, 0, 0)),\n",
    "        ('puter', (0, 0, 0, 3, 0, 0))])"
   ]
  },
  {
   "cell_type": "markdown",
   "id": "f549d64b",
   "metadata": {},
   "source": [
    "TeX exceptions are simply words with hyphens where hyphenation should happen."
   ]
  },
  {
   "cell_type": "code",
   "execution_count": null,
   "id": "f2e37ccc",
   "metadata": {},
   "outputs": [],
   "source": [
    "#| export\n",
    "def convert_exceptions(\n",
    "    exceptions: Iterable[str]\n",
    ") -> Mapping[str, tuple[str,...]]:  # mapping from word to word parts\n",
    "    return {w.replace('-', ''): tuple(w.split('-')) for w in exceptions}"
   ]
  },
  {
   "cell_type": "code",
   "execution_count": null,
   "id": "c5f0ca70",
   "metadata": {},
   "outputs": [
    {
     "data": {
      "text/markdown": [
       "---\n",
       "\n",
       "[source](https://github.com/jkseppan/shyster/blob/main/shyster/pattern.py#L38){target=\"_blank\" style=\"float:right; font-size:smaller\"}\n",
       "\n",
       "### convert_exceptions\n",
       "\n",
       ">      convert_exceptions (exceptions:collections.abc.Iterable[str])\n",
       "\n",
       "|    | **Type** | **Details** |\n",
       "| -- | -------- | ----------- |\n",
       "| exceptions | Iterable |  |\n",
       "| **Returns** | **Mapping** | **mapping from word to word parts** |"
      ],
      "text/plain": [
       "---\n",
       "\n",
       "[source](https://github.com/jkseppan/shyster/blob/main/shyster/pattern.py#L38){target=\"_blank\" style=\"float:right; font-size:smaller\"}\n",
       "\n",
       "### convert_exceptions\n",
       "\n",
       ">      convert_exceptions (exceptions:collections.abc.Iterable[str])\n",
       "\n",
       "|    | **Type** | **Details** |\n",
       "| -- | -------- | ----------- |\n",
       "| exceptions | Iterable |  |\n",
       "| **Returns** | **Mapping** | **mapping from word to word parts** |"
      ]
     },
     "execution_count": null,
     "metadata": {},
     "output_type": "execute_result"
    }
   ],
   "source": [
    "show_doc(convert_exceptions)"
   ]
  },
  {
   "cell_type": "code",
   "execution_count": null,
   "id": "7edd3be7",
   "metadata": {},
   "outputs": [],
   "source": [
    "assert convert_exceptions(['saippua-kauppias', 'xyzzy']) == {\n",
    "    'saippuakauppias': ('saippua', 'kauppias'), \n",
    "    'xyzzy': ('xyzzy',)\n",
    "}"
   ]
  },
  {
   "cell_type": "code",
   "execution_count": null,
   "id": "1800d12d",
   "metadata": {},
   "outputs": [],
   "source": []
  },
  {
   "cell_type": "code",
   "execution_count": null,
   "id": "a14be51b",
   "metadata": {},
   "outputs": [],
   "source": []
  },
  {
   "cell_type": "code",
   "execution_count": null,
   "id": "ba227ece",
   "metadata": {},
   "outputs": [],
   "source": []
  },
  {
   "cell_type": "code",
   "execution_count": null,
   "id": "896ccc5a",
   "metadata": {},
   "outputs": [],
   "source": [
    "#| hide\n",
    "import nbdev; nbdev.nbdev_export()"
   ]
  },
  {
   "cell_type": "code",
   "execution_count": null,
   "id": "0079c750",
   "metadata": {},
   "outputs": [],
   "source": []
  }
 ],
 "metadata": {
  "kernelspec": {
   "display_name": "Python 3 (ipykernel)",
   "language": "python",
   "name": "python3"
  }
 },
 "nbformat": 4,
 "nbformat_minor": 5
}
