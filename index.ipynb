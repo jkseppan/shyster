{
 "cells": [
  {
   "cell_type": "code",
   "execution_count": null,
   "metadata": {},
   "outputs": [],
   "source": [
    "#| hide\n",
    "%load_ext autoreload\n",
    "%autoreload 2\n",
    "from shyster import *\n",
    "from shyster.file import *\n",
    "from shyster.pattern import *\n",
    "from shyster.hyphenation import *\n",
    "from shyster.html import *\n",
    "from bs4 import BeautifulSoup\n",
    "import re"
   ]
  },
  {
   "cell_type": "markdown",
   "metadata": {},
   "source": [
    "# shyster\n",
    "\n",
    "> Add soft hyphens to HTML documents"
   ]
  },
  {
   "cell_type": "markdown",
   "metadata": {},
   "source": [
    "The problem this package is\n",
    "trying to solve is that while I can set `hyphens: auto;` in CSS,\n",
    "many browsers do a poor job of hyphenating Finnish.  Even if they\n",
    "have Finnish hyphenation patterns, they often fail to recognise\n",
    "compound words, which should be hyphenated at compound boundaries\n",
    "(saippua-kauppias, not saip-pua-kaup-pias).  One solution is to set\n",
    "`hyphens: manual;` and add soft hyphens at acceptable hyphenation\n",
    "spots.\n"
   ]
  },
  {
   "cell_type": "markdown",
   "metadata": {},
   "source": [
    "## Install"
   ]
  },
  {
   "cell_type": "markdown",
   "metadata": {},
   "source": [
    "```sh\n",
    "pip install shyster\n",
    "```"
   ]
  },
  {
   "cell_type": "markdown",
   "metadata": {},
   "source": [
    "## How to use\n",
    "\n",
    "One top-level function does it all:"
   ]
  },
  {
   "cell_type": "code",
   "execution_count": null,
   "metadata": {},
   "outputs": [],
   "source": [
    "#| eval: False\n",
    "import shyster\n",
    "shyster.hyphenate_html_file('input.html', 'output.html', 'patterns/hyphen.tex')"
   ]
  },
  {
   "cell_type": "markdown",
   "metadata": {},
   "source": [
    "If more control is needed:"
   ]
  },
  {
   "cell_type": "code",
   "execution_count": null,
   "metadata": {},
   "outputs": [
    {
     "data": {
      "text/plain": [
       "['Ju-ko-lan',\n",
       " 'ta-lo',\n",
       " 'ete-läi-ses-sä',\n",
       " 'Hä-mees-sä',\n",
       " 'sei-soo',\n",
       " 'erään',\n",
       " 'mäen',\n",
       " 'poh-jai-sel-la',\n",
       " 'rin-teel-lä',\n",
       " 'li-ki',\n",
       " 'Tou-ko-lan',\n",
       " 'ky-lää']"
      ]
     },
     "execution_count": null,
     "metadata": {},
     "output_type": "execute_result"
    }
   ],
   "source": [
    "hyph_fi = hyphenator('patterns/hyph-fi.tex', righthyphenmin=2)\n",
    "\n",
    "[hyph_fi(word) for word in \n",
    " 'Jukolan talo, eteläisessä Hämeessä, seisoo erään mäen pohjaisella rinteellä, liki Toukolan kylää'\\\n",
    " .replace(',','').split()]"
   ]
  },
  {
   "cell_type": "code",
   "execution_count": null,
   "metadata": {},
   "outputs": [
    {
     "name": "stdout",
     "output_type": "stream",
     "text": [
      "<!DOCTYPE html>\n",
      "<html><head><title>Seit-se-män vel-jes-tä</title>\n",
      "<script>var veljekset = 7;</script>\n",
      "</head><body>\n",
      "<p style=\"margin-top: 2em\">Ju-ko-lan ta-lo, ete-läi-ses-sä Hä-mees-sä, sei-soo erään mäen poh-jai-sel-la\n",
      "rin-teel-lä, li-ki Tou-ko-lan ky-lää. Sen lä-hei-sin ym-pä-ris-tö on ki-vi-nen\n",
      "tan-ner, mut-ta alem-pa-na al-kaa pel-lot, jois-sa, en-nen-kuin ta-lo oli hä-vi-öön\n",
      "men-nyt, aal-toi-li te-räi-nen vil-ja.</p>\n",
      "</body>\n",
      "</html>\n"
     ]
    }
   ],
   "source": [
    "html = \"\"\"\n",
    "<!doctype html><title>Seitsemän veljestä</title>\n",
    "<script>var veljekset = 7;</script>\n",
    "<body>\n",
    "<p style=\"margin-top: 2em\">Jukolan talo, eteläisessä Hämeessä, seisoo erään mäen pohjaisella\n",
    "rinteellä, liki Toukolan kylää. Sen läheisin ympäristö on kivinen\n",
    "tanner, mutta alempana alkaa pellot, joissa, ennenkuin talo oli häviöön\n",
    "mennyt, aaltoili teräinen vilja.</p>\n",
    "</body>\n",
    "\"\"\"\n",
    "soup = BeautifulSoup(html, 'lxml')\n",
    "hyphenate_soup(soup, hyph_fi)\n",
    "print(str(soup))"
   ]
  },
  {
   "cell_type": "code",
   "execution_count": null,
   "metadata": {},
   "outputs": [],
   "source": []
  },
  {
   "cell_type": "code",
   "execution_count": null,
   "metadata": {},
   "outputs": [
    {
     "data": {
      "text/plain": [
       "['shy•ster noun 1 some•one pos•si•bly a l•a•w•y•e•r who be•haves in an',\n",
       " 'un•scrupu•lous way 2 the pre•sent Python li•brary']"
      ]
     },
     "execution_count": null,
     "metadata": {},
     "output_type": "execute_result"
    }
   ],
   "source": [
    "pat, ex = read_patterns(open('patterns/hyphen.tex').readlines())\n",
    "trie = convert_patterns(pat)\n",
    "ex = convert_exceptions(ex)\n",
    "del ex['present'] # remove an exception\n",
    "ex['shyster'] = ('shy', 'ster')  # add or alter an exception\n",
    "ex['lawyer'] = ('l', 'a', 'w', 'y', 'e', 'r')  # exceptions even override {left,right}hyphenmin\n",
    "\n",
    "hyph_en = hyphenator(None, hyphen='•')\n",
    "hyph_en.trie = trie\n",
    "hyph_en.exceptions = ex\n",
    "\n",
    "import textwrap\n",
    "textwrap.wrap(' '.join(hyph_en(match.group(0)) \n",
    "                       for match in re.finditer(r'[\\w]+', '''\n",
    "shyster: noun; 1. someone, possibly a lawyer, who behaves in an unscrupulous way;\n",
    "2. the present Python library\n",
    "''')))"
   ]
  },
  {
   "cell_type": "markdown",
   "metadata": {},
   "source": [
    "## Copying\n",
    "\n",
    "This program is free software: you can redistribute it and/or modify it under the terms of the GNU General Public License as published by the Free Software Foundation, either version 3 of the License, or (at your option) any later version.\n",
    "\n",
    "This program is distributed in the hope that it will be useful, but WITHOUT ANY WARRANTY; without even the implied warranty of MERCHANTABILITY or FITNESS FOR A PARTICULAR PURPOSE. See the GNU General Public License for more details.\n",
    "\n",
    "You should have received a copy of the GNU General Public License along with this program. If not, see <https://www.gnu.org/licenses/>.\n",
    "\n",
    "The above does not apply to the files in `patterns/`, which are distributed with this program\n",
    "as example input files.\n",
    "The Finnish patterns are covered by the terms \"Patterns may be freely distributed\"\n",
    "and the English ones by \"Unlimited copying and redistribution of this file are permitted as long\n",
    "as this file is not modified.\""
   ]
  },
  {
   "cell_type": "code",
   "execution_count": null,
   "metadata": {},
   "outputs": [],
   "source": []
  }
 ],
 "metadata": {
  "kernelspec": {
   "display_name": "Python 3 (ipykernel)",
   "language": "python",
   "name": "python3"
  }
 },
 "nbformat": 4,
 "nbformat_minor": 4
}
