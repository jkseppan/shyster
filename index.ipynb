{
 "cells": [
  {
   "cell_type": "code",
   "execution_count": null,
   "metadata": {},
   "outputs": [],
   "source": [
    "#| hide\n",
    "%load_ext autoreload\n",
    "%autoreload 2\n",
    "from shyster.file import *\n",
    "from shyster.pattern import *\n",
    "from shyster.hyphenation import *\n",
    "from shyster.html import *\n",
    "from bs4 import BeautifulSoup"
   ]
  },
  {
   "cell_type": "markdown",
   "metadata": {},
   "source": [
    "# shyster\n",
    "\n",
    "> Add soft hyphens to HTML documents"
   ]
  },
  {
   "cell_type": "markdown",
   "metadata": {},
   "source": [
    "The problem this package is\n",
    "trying to solve is that while I can set `hyphens: auto;` in CSS,\n",
    "many browsers do a poor job of hyphenating Finnish.  Even if they\n",
    "have Finnish hyphenation patterns, they often fail to recognise\n",
    "compound words, which should be hyphenated at compound boundaries\n",
    "(saippua-kauppias, not saip-pua-kaup-pias).  One solution is to set\n",
    "`hyphens: manual;` and add soft hyphens at acceptable hyphenation\n",
    "spots.\n"
   ]
  },
  {
   "cell_type": "markdown",
   "metadata": {},
   "source": [
    "## Install"
   ]
  },
  {
   "cell_type": "markdown",
   "metadata": {},
   "source": [
    "```sh\n",
    "pip install https://github.com/jkseppan/shyster/\n",
    "```"
   ]
  },
  {
   "cell_type": "markdown",
   "metadata": {},
   "source": [
    "## How to use"
   ]
  },
  {
   "cell_type": "code",
   "execution_count": null,
   "metadata": {},
   "outputs": [
    {
     "data": {
      "text/plain": [
       "['Ju-ko-lan',\n",
       " 'ta-lo',\n",
       " 'ete-läi-ses-sä',\n",
       " 'Hä-mees-sä',\n",
       " 'sei-soo',\n",
       " 'erään',\n",
       " 'mäen',\n",
       " 'poh-jai-sel-la',\n",
       " 'rin-teel-lä',\n",
       " 'li-ki',\n",
       " 'Tou-ko-lan',\n",
       " 'ky-lää']"
      ]
     },
     "execution_count": null,
     "metadata": {},
     "output_type": "execute_result"
    }
   ],
   "source": [
    "pat, ex = read_patterns(open('patterns/hyph-fi.tex').readlines())\n",
    "pat_re, pat_map = convert_patterns(pat)\n",
    "ex = convert_exceptions(ex)\n",
    "hyph = hyphenator(pat_re, pat_map, ex, righthyphenmin=2)\n",
    "\n",
    "[hyph(word) for word in \n",
    " 'Jukolan talo, eteläisessä Hämeessä, seisoo erään mäen pohjaisella rinteellä, liki Toukolan kylää'\\\n",
    " .replace(',','').split()]"
   ]
  },
  {
   "cell_type": "code",
   "execution_count": null,
   "metadata": {},
   "outputs": [
    {
     "name": "stdout",
     "output_type": "stream",
     "text": [
      "<class 'bs4.element.NavigableString'> Seitsemän veljestä\n",
      "<class 'bs4.element.NavigableString'> \n",
      "\n",
      "<class 'bs4.element.NavigableString'> \n",
      "\n",
      "<class 'bs4.element.NavigableString'> \n",
      "\n",
      "<class 'bs4.element.NavigableString'> Jukolan talo, eteläisessä Hämeessä, seisoo erään mäen pohjaisella\n",
      "rinteellä, liki Toukolan kylää. Sen läheisin ympäristö on kivinen\n",
      "tanner, mutta alempana alkaa pellot, joissa, ennenkuin talo oli häviöön\n",
      "mennyt, aaltoili teräinen vilja.\n",
      "<class 'bs4.element.NavigableString'> \n",
      "\n",
      "<class 'bs4.element.NavigableString'> \n",
      "\n",
      "<!DOCTYPE html>\n",
      "<html><head><title>Seit-se-män vel-jes-tä</title>\n",
      "<script>var veljekset = 7;</script>\n",
      "</head><body>\n",
      "<p style=\"margin-top: 2em\">Ju-ko-lan ta-lo, ete-läi-ses-sä Hä-mees-sä, sei-soo erään mäen poh-jai-sel-la\n",
      "rin-teel-lä, li-ki Tou-ko-lan ky-lää. Sen lä-hei-sin ym-pä-ris-tö on ki-vi-nen\n",
      "tan-ner, mut-ta alem-pa-na al-kaa pel-lot, jois-sa, en-nen-kuin ta-lo oli hä-vi-öön\n",
      "men-nyt, aal-toi-li te-räi-nen vil-ja.</p>\n",
      "</body>\n",
      "</html>\n"
     ]
    }
   ],
   "source": [
    "html = \"\"\"\n",
    "<!doctype html><title>Seitsemän veljestä</title>\n",
    "<script>var veljekset = 7;</script>\n",
    "<body>\n",
    "<p style=\"margin-top: 2em\">Jukolan talo, eteläisessä Hämeessä, seisoo erään mäen pohjaisella\n",
    "rinteellä, liki Toukolan kylää. Sen läheisin ympäristö on kivinen\n",
    "tanner, mutta alempana alkaa pellot, joissa, ennenkuin talo oli häviöön\n",
    "mennyt, aaltoili teräinen vilja.</p>\n",
    "</body>\n",
    "\"\"\"\n",
    "soup = BeautifulSoup(html, 'lxml')\n",
    "hyph = hyphenator(pat_re, pat_map, ex, righthyphenmin=2)\n",
    "hyphenate_soup(soup, hyph)\n",
    "print(str(soup))"
   ]
  },
  {
   "cell_type": "code",
   "execution_count": null,
   "metadata": {},
   "outputs": [],
   "source": []
  },
  {
   "cell_type": "code",
   "execution_count": null,
   "metadata": {},
   "outputs": [
    {
     "data": {
      "text/plain": [
       "['It is a truth univer-sally ac-knowl-edged that a single man in posses-',\n",
       " 'sion of a good for-tune must be in want of a wife']"
      ]
     },
     "execution_count": null,
     "metadata": {},
     "output_type": "execute_result"
    }
   ],
   "source": [
    "pat, ex = read_patterns(open('patterns/hyphen.tex').readlines())\n",
    "pat_re, pat_map = convert_patterns(pat)\n",
    "ex = convert_exceptions(ex)\n",
    "hyph = hyphenator(pat_re, pat_map, ex)\n",
    "\n",
    "import textwrap\n",
    "textwrap.wrap(' '.join(hyph(word) for word in '''\n",
    "It is a truth universally acknowledged, that a single man in possession of a good fortune,\n",
    "must be in want of a wife.\n",
    "'''.replace(',','').replace('.','').split()))"
   ]
  },
  {
   "cell_type": "markdown",
   "metadata": {},
   "source": [
    "## Copying\n",
    "\n",
    "This program is free software: you can redistribute it and/or modify it under the terms of the GNU General Public License as published by the Free Software Foundation, either version 3 of the License, or (at your option) any later version.\n",
    "\n",
    "This program is distributed in the hope that it will be useful, but WITHOUT ANY WARRANTY; without even the implied warranty of MERCHANTABILITY or FITNESS FOR A PARTICULAR PURPOSE. See the GNU General Public License for more details.\n",
    "\n",
    "You should have received a copy of the GNU General Public License along with this program. If not, see <https://www.gnu.org/licenses/>.\n",
    "\n",
    "The files in `patterns/` are distributed with this program as example input files.\n",
    "The Finnish patterns are covered by the terms \"Patterns may be freely distributed\"\n",
    "and the English ones by \"Unlimited copying and redistribution of this file are permitted as long\n",
    "as this file is not modified.\""
   ]
  }
 ],
 "metadata": {
  "kernelspec": {
   "display_name": "Python 3 (ipykernel)",
   "language": "python",
   "name": "python3"
  }
 },
 "nbformat": 4,
 "nbformat_minor": 4
}
