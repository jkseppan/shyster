{
 "cells": [
  {
   "cell_type": "code",
   "execution_count": null,
   "metadata": {},
   "outputs": [],
   "source": [
    "#| hide\n",
    "from shyster.file import *\n",
    "from shyster.pattern import *\n",
    "from shyster.hyphenation import *"
   ]
  },
  {
   "cell_type": "markdown",
   "metadata": {},
   "source": [
    "# shyster\n",
    "\n",
    "> Add soft hyphens to HTML documents"
   ]
  },
  {
   "cell_type": "markdown",
   "metadata": {},
   "source": [
    "As of now, I'm just playing around with nbdev.  But the problem I'm\n",
    "trying to solve is that while I can set `hyphens: auto;` in CSS,\n",
    "many browsers do a poor job of hyphenating Finnish.  Even if they\n",
    "have Finnish hyphenation patterns, they often fail to recognise\n",
    "compound words, which should be hyphenated at compound boundaries\n",
    "(saippua-kauppias, not saip-pua-kaup-pias).  One solution is to set\n",
    "`hyphens: manual;` and add soft hyphens at acceptable hyphenation\n",
    "spots.\n"
   ]
  },
  {
   "cell_type": "markdown",
   "metadata": {},
   "source": [
    "## Install"
   ]
  },
  {
   "cell_type": "markdown",
   "metadata": {},
   "source": [
    "```sh\n",
    "pip install https://github.com/jkseppan/shyster/\n",
    "```"
   ]
  },
  {
   "cell_type": "markdown",
   "metadata": {},
   "source": [
    "## How to use"
   ]
  },
  {
   "cell_type": "markdown",
   "metadata": {},
   "source": [
    "Fill me in please! Don't forget code examples:"
   ]
  },
  {
   "cell_type": "markdown",
   "metadata": {},
   "source": [
    "```\n",
    "from .file import read_patterns\n",
    "from .pattern import convert_patterns\n",
    "from .hyphenation import hyphenator\n",
    "pp, ex = read_patterns(open('/Users/jks/Downloads/hyph-fi.tex').readlines())\n",
    "ppr, ppm = convert_patterns(pp)\n",
    "ex = convert_exceptions(ex)\n",
    "```"
   ]
  },
  {
   "cell_type": "code",
   "execution_count": null,
   "metadata": {},
   "outputs": [],
   "source": []
  }
 ],
 "metadata": {
  "kernelspec": {
   "display_name": "Python 3 (ipykernel)",
   "language": "python",
   "name": "python3"
  }
 },
 "nbformat": 4,
 "nbformat_minor": 4
}
