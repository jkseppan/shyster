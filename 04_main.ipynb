{
 "cells": [
  {
   "cell_type": "markdown",
   "metadata": {},
   "source": [
    "# 04_main\n",
    "\n",
    "> One callable function"
   ]
  },
  {
   "cell_type": "code",
   "execution_count": null,
   "metadata": {},
   "outputs": [],
   "source": [
    "#| default_exp main"
   ]
  },
  {
   "cell_type": "code",
   "execution_count": null,
   "metadata": {},
   "outputs": [],
   "source": [
    "#| hide\n",
    "from nbdev.showdoc import *"
   ]
  },
  {
   "cell_type": "code",
   "execution_count": null,
   "metadata": {},
   "outputs": [],
   "source": [
    "#| exporti\n",
    "from shyster.file import read_patterns\n",
    "from shyster.pattern import convert_patterns, convert_exceptions\n",
    "from shyster.hyphenation import hyphenator\n",
    "from shyster.html import hyphenate_soup\n",
    "import bs4\n",
    "\n",
    "from collections.abc import Callable, Set\n",
    "from typing import Type"
   ]
  },
  {
   "cell_type": "markdown",
   "metadata": {},
   "source": [
    "To tie it all together:"
   ]
  },
  {
   "cell_type": "code",
   "execution_count": null,
   "metadata": {},
   "outputs": [],
   "source": [
    "#| export\n",
    "def hyphenate_html_file(\n",
    "    html_filename: str,  # to be read\n",
    "    output_filename: str,  # to be written\n",
    "    patterns_filename: str,  # e.g. hyphen.tex or hyph-fi.tex\n",
    "    hyphen: str='\\N{SOFT HYPHEN}',  # what hyphen character to use\n",
    "    lefthyphenmin: int=2,  # at least this many characters before the first hyphen\n",
    "    righthyphenmin: int=3,  # at least this many characters after the last hyphen\n",
    "    exclude_classes: tuple[Type[bs4.element.PageElement],...]=()  # exclude these bs4 elements (empty to use default)\n",
    ") -> None:\n",
    "    \"\"\"Read html_filename and output output_filename, inserting hyphens in words.\"\"\"\n",
    "    pat, exc = read_patterns(open(patterns_filename).readlines())\n",
    "    re, mp = convert_patterns(pat)\n",
    "    ex = convert_exceptions(exc)\n",
    "    hyph = hyphenator(re, mp, ex, hyphen=hyphen, lefthyphenmin=lefthyphenmin, righthyphenmin=righthyphenmin)\n",
    "    with open(html_filename, 'rt') as f:\n",
    "        soup = bs4.BeautifulSoup(f, 'lxml')\n",
    "    kwargs = {'exclude_classes': exclude_classes} if exclude_classes else {}\n",
    "    hyphenate_soup(soup, hyph, **kwargs)\n",
    "    with open(output_filename, 'wt') as f:\n",
    "        f.write(str(soup))"
   ]
  },
  {
   "cell_type": "code",
   "execution_count": null,
   "metadata": {},
   "outputs": [
    {
     "data": {
      "text/markdown": [
       "---\n",
       "\n",
       "[source](https://github.com/jkseppan/shyster/blob/main/shyster/main.py#L17){target=\"_blank\" style=\"float:right; font-size:smaller\"}\n",
       "\n",
       "### hyphenate_html_file\n",
       "\n",
       ">      hyphenate_html_file (html_filename:str, output_filename:str,\n",
       ">                           patterns_filename:str, hyphen:str='\\xad',\n",
       ">                           lefthyphenmin:int=2, righthyphenmin:int=3, exclude_c\n",
       ">                           lasses:tuple[typing.Type[bs4.element.PageElement],..\n",
       ">                           .]=())\n",
       "\n",
       "Read html_filename and output output_filename, inserting hyphens in words.\n",
       "\n",
       "|    | **Type** | **Default** | **Details** |\n",
       "| -- | -------- | ----------- | ----------- |\n",
       "| html_filename | str |  | to be read |\n",
       "| output_filename | str |  | to be written |\n",
       "| patterns_filename | str |  | e.g. hyphen.tex or hyph-fi.tex |\n",
       "| hyphen | str | ­ | what hyphen character to use |\n",
       "| lefthyphenmin | int | 2 | at least this many characters before the first hyphen |\n",
       "| righthyphenmin | int | 3 | at least this many characters after the last hyphen |\n",
       "| exclude_classes | tuple | () | exclude these bs4 elements (empty to use default) |\n",
       "| **Returns** | **None** |  |  |"
      ],
      "text/plain": [
       "---\n",
       "\n",
       "[source](https://github.com/jkseppan/shyster/blob/main/shyster/main.py#L17){target=\"_blank\" style=\"float:right; font-size:smaller\"}\n",
       "\n",
       "### hyphenate_html_file\n",
       "\n",
       ">      hyphenate_html_file (html_filename:str, output_filename:str,\n",
       ">                           patterns_filename:str, hyphen:str='\\xad',\n",
       ">                           lefthyphenmin:int=2, righthyphenmin:int=3, exclude_c\n",
       ">                           lasses:tuple[typing.Type[bs4.element.PageElement],..\n",
       ">                           .]=())\n",
       "\n",
       "Read html_filename and output output_filename, inserting hyphens in words.\n",
       "\n",
       "|    | **Type** | **Default** | **Details** |\n",
       "| -- | -------- | ----------- | ----------- |\n",
       "| html_filename | str |  | to be read |\n",
       "| output_filename | str |  | to be written |\n",
       "| patterns_filename | str |  | e.g. hyphen.tex or hyph-fi.tex |\n",
       "| hyphen | str | ­ | what hyphen character to use |\n",
       "| lefthyphenmin | int | 2 | at least this many characters before the first hyphen |\n",
       "| righthyphenmin | int | 3 | at least this many characters after the last hyphen |\n",
       "| exclude_classes | tuple | () | exclude these bs4 elements (empty to use default) |\n",
       "| **Returns** | **None** |  |  |"
      ]
     },
     "execution_count": null,
     "metadata": {},
     "output_type": "execute_result"
    }
   ],
   "source": [
    "show_doc(hyphenate_html_file)"
   ]
  },
  {
   "cell_type": "code",
   "execution_count": null,
   "metadata": {},
   "outputs": [],
   "source": [
    "#| hide\n",
    "import nbdev; nbdev.nbdev_export()"
   ]
  },
  {
   "cell_type": "code",
   "execution_count": null,
   "metadata": {},
   "outputs": [],
   "source": []
  }
 ],
 "metadata": {
  "kernelspec": {
   "display_name": "Python 3 (ipykernel)",
   "language": "python",
   "name": "python3"
  }
 },
 "nbformat": 4,
 "nbformat_minor": 4
}
