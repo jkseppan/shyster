{
 "cells": [
  {
   "cell_type": "markdown",
   "metadata": {},
   "source": [
    "# 03_html\n",
    "\n",
    "> HTML modification"
   ]
  },
  {
   "cell_type": "markdown",
   "metadata": {},
   "source": [
    "## prerequisites"
   ]
  },
  {
   "cell_type": "code",
   "execution_count": null,
   "metadata": {},
   "outputs": [],
   "source": [
    "#| default_exp html"
   ]
  },
  {
   "cell_type": "code",
   "execution_count": null,
   "metadata": {},
   "outputs": [],
   "source": [
    "#| hide\n",
    "from nbdev.showdoc import *\n",
    "import requests"
   ]
  },
  {
   "cell_type": "code",
   "execution_count": null,
   "metadata": {},
   "outputs": [],
   "source": [
    "#| export\n",
    "from collections.abc import Callable, Set\n",
    "from collections import Counter\n",
    "from typing import Type\n",
    "import bs4\n",
    "import re"
   ]
  },
  {
   "cell_type": "code",
   "execution_count": null,
   "metadata": {},
   "outputs": [],
   "source": [
    "#| exporti\n",
    "word_or_punct_re = re.compile(r'\\w+|[^\\w]+')\n",
    "word_re = re.compile(r'\\w+')\n",
    "default_exclude_classes = (\n",
    "    bs4.element.PreformattedString,\n",
    "    bs4.element.Stylesheet,\n",
    "    bs4.element.Script,\n",
    "    bs4.element.RubyTextString, # type: ignore\n",
    "    bs4.element.RubyParenthesisString, # type: ignore\n",
    ")"
   ]
  },
  {
   "cell_type": "markdown",
   "metadata": {},
   "source": [
    "## hyphenate a beautiful soup"
   ]
  },
  {
   "cell_type": "code",
   "execution_count": null,
   "metadata": {},
   "outputs": [],
   "source": [
    "#| export\n",
    "def hyphenate_soup(\n",
    "    soup: bs4.BeautifulSoup,  # soup to be modified\n",
    "    hyphenator: Callable[[str], str],  # hyphenator\n",
    "    exclude_classes: tuple[Type[bs4.element.PageElement],...]=default_exclude_classes,  # do not modify inside these\n",
    ") -> None:\n",
    "    \"\"\"Call hyphenator on words that appear in suitable elements of soup,\n",
    "    and replace the contents of those elements. Suitable elements are those\n",
    "    containing text whose class is not (a subclass of something) in\n",
    "    exclude_classes.\"\"\"\n",
    "    for t in soup.find_all(string=True):\n",
    "        if isinstance(t, exclude_classes):\n",
    "            continue\n",
    "        pieces = re.findall(word_or_punct_re, str(t.string))\n",
    "        for i, word in enumerate(pieces):\n",
    "            if not word_re.fullmatch(word):\n",
    "                continue\n",
    "            if (title := word.istitle()) or word.islower():\n",
    "                hyphenated = hyphenator(word)\n",
    "                if title:\n",
    "                    pieces[i] = hyphenated.title()\n",
    "                else:\n",
    "                    pieces[i] = hyphenated\n",
    "        new = ''.join(pieces)\n",
    "        t.string.replace_with(new)\n"
   ]
  },
  {
   "cell_type": "code",
   "execution_count": null,
   "metadata": {},
   "outputs": [
    {
     "data": {
      "text/markdown": [
       "---\n",
       "\n",
       "[source](https://github.com/jkseppan/shyster/blob/main/shyster/html.py#L25){target=\"_blank\" style=\"float:right; font-size:smaller\"}\n",
       "\n",
       "### hyphenate_soup\n",
       "\n",
       ">      hyphenate_soup (soup:bs4.BeautifulSoup,\n",
       ">                      hyphenator:collections.abc.Callable[[str],str], exclude_c\n",
       ">                      lasses:tuple[typing.Type[bs4.element.PageElement],...]=(<\n",
       ">                      class 'bs4.element.PreformattedString'>, <class\n",
       ">                      'bs4.element.Stylesheet'>, <class 'bs4.element.Script'>,\n",
       ">                      <class 'bs4.element.RubyTextString'>, <class\n",
       ">                      'bs4.element.RubyParenthesisString'>))\n",
       "\n",
       "Call hyphenator on words that appear in suitable elements of soup,\n",
       "and replace the contents of those elements. Suitable elements are those\n",
       "containing text whose class is not (a subclass of something) in\n",
       "exclude_classes.\n",
       "\n",
       "|    | **Type** | **Default** | **Details** |\n",
       "| -- | -------- | ----------- | ----------- |\n",
       "| soup | BeautifulSoup |  | soup to be modified |\n",
       "| hyphenator | Callable |  | hyphenator |\n",
       "| exclude_classes | tuple | (<class 'bs4.element.PreformattedString'>, <class 'bs4.element.Stylesheet'>, <class 'bs4.element.Script'>, <class 'bs4.element.RubyTextString'>, <class 'bs4.element.RubyParenthesisString'>) | do not modify inside these |\n",
       "| **Returns** | **None** |  |  |"
      ],
      "text/plain": [
       "---\n",
       "\n",
       "[source](https://github.com/jkseppan/shyster/blob/main/shyster/html.py#L25){target=\"_blank\" style=\"float:right; font-size:smaller\"}\n",
       "\n",
       "### hyphenate_soup\n",
       "\n",
       ">      hyphenate_soup (soup:bs4.BeautifulSoup,\n",
       ">                      hyphenator:collections.abc.Callable[[str],str], exclude_c\n",
       ">                      lasses:tuple[typing.Type[bs4.element.PageElement],...]=(<\n",
       ">                      class 'bs4.element.PreformattedString'>, <class\n",
       ">                      'bs4.element.Stylesheet'>, <class 'bs4.element.Script'>,\n",
       ">                      <class 'bs4.element.RubyTextString'>, <class\n",
       ">                      'bs4.element.RubyParenthesisString'>))\n",
       "\n",
       "Call hyphenator on words that appear in suitable elements of soup,\n",
       "and replace the contents of those elements. Suitable elements are those\n",
       "containing text whose class is not (a subclass of something) in\n",
       "exclude_classes.\n",
       "\n",
       "|    | **Type** | **Default** | **Details** |\n",
       "| -- | -------- | ----------- | ----------- |\n",
       "| soup | BeautifulSoup |  | soup to be modified |\n",
       "| hyphenator | Callable |  | hyphenator |\n",
       "| exclude_classes | tuple | (<class 'bs4.element.PreformattedString'>, <class 'bs4.element.Stylesheet'>, <class 'bs4.element.Script'>, <class 'bs4.element.RubyTextString'>, <class 'bs4.element.RubyParenthesisString'>) | do not modify inside these |\n",
       "| **Returns** | **None** |  |  |"
      ]
     },
     "execution_count": null,
     "metadata": {},
     "output_type": "execute_result"
    }
   ],
   "source": [
    "show_doc(hyphenate_soup)"
   ]
  },
  {
   "cell_type": "markdown",
   "metadata": {},
   "source": [
    "## soup analysis\n",
    "\n",
    "The following function consumes many beautiful soups and counts the words in them.\n",
    "Ways to use it include:\n",
    "- list all the words longer than a threshold and see if they are compounds\n",
    "- list all the frequent words and see if they are hyphenated right\n",
    "- list all the words of low frequency and see if they are typos"
   ]
  },
  {
   "cell_type": "code",
   "execution_count": null,
   "metadata": {},
   "outputs": [],
   "source": [
    "#| export\n",
    "def analyze_soups(\n",
    "    dinner: list[bs4.BeautifulSoup],  # soups to be read\n",
    "    exclude_classes: tuple[Type[bs4.element.PageElement],...]=default_exclude_classes,  # do not look inside these\n",
    ") -> Counter:\n",
    "    \"\"\"Count words appearing in all soups.\"\"\"\n",
    "    counter: Counter = Counter()\n",
    "    for soup in dinner:\n",
    "        for t in soup.find_all(string=True):\n",
    "            if isinstance(t, exclude_classes):\n",
    "                continue\n",
    "            pieces = re.findall(word_or_punct_re, str(t.string))\n",
    "            counter.update(word.lower() for word in pieces\n",
    "                           if word_re.fullmatch(word) and word.istitle() or word.islower())\n",
    "    return counter"
   ]
  },
  {
   "cell_type": "code",
   "execution_count": null,
   "metadata": {},
   "outputs": [
    {
     "data": {
      "text/markdown": [
       "---\n",
       "\n",
       "[source](https://github.com/jkseppan/shyster/blob/main/shyster/html.py#L52){target=\"_blank\" style=\"float:right; font-size:smaller\"}\n",
       "\n",
       "### analyze_soups\n",
       "\n",
       ">      analyze_soups (dinner:list[bs4.BeautifulSoup],\n",
       ">                     exclude_classes:tuple[typing.Type[bs4.element.PageElement]\n",
       ">                     ,...]=(<class 'bs4.element.PreformattedString'>, <class\n",
       ">                     'bs4.element.Stylesheet'>, <class 'bs4.element.Script'>,\n",
       ">                     <class 'bs4.element.RubyTextString'>, <class\n",
       ">                     'bs4.element.RubyParenthesisString'>))\n",
       "\n",
       "Count words appearing in all soups.\n",
       "\n",
       "|    | **Type** | **Default** | **Details** |\n",
       "| -- | -------- | ----------- | ----------- |\n",
       "| dinner | list |  | soups to be read |\n",
       "| exclude_classes | tuple | (<class 'bs4.element.PreformattedString'>, <class 'bs4.element.Stylesheet'>, <class 'bs4.element.Script'>, <class 'bs4.element.RubyTextString'>, <class 'bs4.element.RubyParenthesisString'>) | do not look inside these |\n",
       "| **Returns** | **Counter** |  |  |"
      ],
      "text/plain": [
       "---\n",
       "\n",
       "[source](https://github.com/jkseppan/shyster/blob/main/shyster/html.py#L52){target=\"_blank\" style=\"float:right; font-size:smaller\"}\n",
       "\n",
       "### analyze_soups\n",
       "\n",
       ">      analyze_soups (dinner:list[bs4.BeautifulSoup],\n",
       ">                     exclude_classes:tuple[typing.Type[bs4.element.PageElement]\n",
       ">                     ,...]=(<class 'bs4.element.PreformattedString'>, <class\n",
       ">                     'bs4.element.Stylesheet'>, <class 'bs4.element.Script'>,\n",
       ">                     <class 'bs4.element.RubyTextString'>, <class\n",
       ">                     'bs4.element.RubyParenthesisString'>))\n",
       "\n",
       "Count words appearing in all soups.\n",
       "\n",
       "|    | **Type** | **Default** | **Details** |\n",
       "| -- | -------- | ----------- | ----------- |\n",
       "| dinner | list |  | soups to be read |\n",
       "| exclude_classes | tuple | (<class 'bs4.element.PreformattedString'>, <class 'bs4.element.Stylesheet'>, <class 'bs4.element.Script'>, <class 'bs4.element.RubyTextString'>, <class 'bs4.element.RubyParenthesisString'>) | do not look inside these |\n",
       "| **Returns** | **Counter** |  |  |"
      ]
     },
     "execution_count": null,
     "metadata": {},
     "output_type": "execute_result"
    }
   ],
   "source": [
    "show_doc(analyze_soups)"
   ]
  },
  {
   "cell_type": "markdown",
   "metadata": {},
   "source": [
    "It can be interesting to look at the longest words on some pages, perhaps to check if hyphenation exceptions are needed for them:"
   ]
  },
  {
   "cell_type": "code",
   "execution_count": null,
   "metadata": {},
   "outputs": [],
   "source": [
    "soups = [\n",
    "    bs4.BeautifulSoup(r.content, 'lxml')\n",
    "    for r in map(requests.get, [\n",
    "        'https://en.wikipedia.org/wiki/Syllabification',\n",
    "        'https://en.wikipedia.org/wiki/Hyphen'\n",
    "    ])\n",
    "]\n",
    "c = analyze_soups(soups)"
   ]
  },
  {
   "cell_type": "code",
   "execution_count": null,
   "metadata": {},
   "outputs": [
    {
     "data": {
      "text/plain": [
       "[('syllabification', 19),\n",
       " ('conventionally', 2),\n",
       " ('correspondence', 1),\n",
       " ('implementation', 1),\n",
       " ('heterosyllabic', 1),\n",
       " ('disambiguation', 2),\n",
       " ('prescriptivist', 1),\n",
       " ('recommendations', 2),\n",
       " ('representatives', 1),\n",
       " ('misinterpretable', 1),\n",
       " ('misunderstanding', 1),\n",
       " ('misinterpreted', 2),\n",
       " ('past_participled', 1),\n",
       " ('differentiated', 1),\n",
       " ('recommendation', 1),\n",
       " ('sociolinguistics', 2),\n",
       " ('reduplicatives', 1),\n",
       " ('implementations', 1),\n",
       " ('indistinguishable', 1),\n",
       " ('standardization', 1),\n",
       " ('reinterpretations', 1),\n",
       " ('interpretation', 1),\n",
       " ('capitalization', 1),\n",
       " ('classifications', 1),\n",
       " ('microtypography', 1),\n",
       " ('phototypesetting', 1),\n",
       " ('classification', 1),\n",
       " ('multiplication', 1),\n",
       " ('srpskohrvatski', 1),\n",
       " ('српскохрватски', 1)]"
      ]
     },
     "execution_count": null,
     "metadata": {},
     "output_type": "execute_result"
    }
   ],
   "source": [
    "[(w, c[w]) for w in c.keys() if len(w)>13]"
   ]
  },
  {
   "cell_type": "markdown",
   "metadata": {},
   "source": [
    "Or the most common words:"
   ]
  },
  {
   "cell_type": "code",
   "execution_count": null,
   "metadata": {},
   "outputs": [
    {
     "data": {
      "text/plain": [
       "[('the', 339),\n",
       " ('a', 215),\n",
       " ('of', 190),\n",
       " ('in', 174),\n",
       " ('and', 159),\n",
       " ('is', 135),\n",
       " ('to', 132),\n",
       " ('hyphen', 131),\n",
       " ('for', 84),\n",
       " ('as', 79),\n",
       " ('or', 75),\n",
       " ('be', 65),\n",
       " ('are', 61),\n",
       " ('this', 57),\n",
       " ('that', 56),\n",
       " ('with', 55),\n",
       " ('used', 53),\n",
       " ('hyphenation', 46),\n",
       " ('hyphens', 45),\n",
       " ('word', 41)]"
      ]
     },
     "execution_count": null,
     "metadata": {},
     "output_type": "execute_result"
    }
   ],
   "source": [
    "c.most_common(20)"
   ]
  },
  {
   "cell_type": "code",
   "execution_count": null,
   "metadata": {},
   "outputs": [],
   "source": [
    "#| hide\n",
    "import nbdev; nbdev.nbdev_export()"
   ]
  }
 ],
 "metadata": {
  "kernelspec": {
   "display_name": "Python 3 (ipykernel)",
   "language": "python",
   "name": "python3"
  }
 },
 "nbformat": 4,
 "nbformat_minor": 4
}
