{
 "cells": [
  {
   "cell_type": "markdown",
   "metadata": {},
   "source": [
    "# 03_html\n",
    "\n",
    "> HTML modification"
   ]
  },
  {
   "cell_type": "code",
   "execution_count": null,
   "metadata": {},
   "outputs": [],
   "source": [
    "#| default_exp html"
   ]
  },
  {
   "cell_type": "code",
   "execution_count": null,
   "metadata": {},
   "outputs": [],
   "source": [
    "#| hide\n",
    "from nbdev.showdoc import *"
   ]
  },
  {
   "cell_type": "code",
   "execution_count": null,
   "metadata": {},
   "outputs": [],
   "source": [
    "#| export\n",
    "from collections.abc import Callable, Set\n",
    "from typing import Type\n",
    "import bs4\n",
    "import re"
   ]
  },
  {
   "cell_type": "code",
   "execution_count": null,
   "metadata": {},
   "outputs": [],
   "source": [
    "#| exporti\n",
    "word_or_punct_re = re.compile(r'\\w+|[^\\w]+')\n",
    "word_re = re.compile(r'\\w+')\n",
    "default_exclude_classes = (\n",
    "    bs4.element.PreformattedString,\n",
    "    bs4.element.Stylesheet,\n",
    "    bs4.element.Script,\n",
    "    bs4.element.RubyTextString, # type: ignore\n",
    "    bs4.element.RubyParenthesisString, # type: ignore\n",
    ")"
   ]
  },
  {
   "cell_type": "code",
   "execution_count": null,
   "metadata": {},
   "outputs": [],
   "source": [
    "#| export\n",
    "def hyphenate_soup(\n",
    "    soup: bs4.BeautifulSoup,  # soup to be modified\n",
    "    hyphenator: Callable[[str], str],  # hyphenator\n",
    "    exclude_classes: tuple[Type[bs4.element.PageElement],...]=default_exclude_classes,  # do not modify inside these\n",
    ") -> None:\n",
    "    \"\"\"Call hyphenator on words that appear in suitable elements of soup,\n",
    "    and replace the contents of those elements. Suitable elements are those\n",
    "    containing text whose class is not (a subclass of something) in\n",
    "    exclude_classes.\"\"\"\n",
    "    for t in soup.find_all(string=True):\n",
    "        if isinstance(t, exclude_classes):\n",
    "            continue\n",
    "        print(type(t), t.string)\n",
    "        pieces = re.findall(word_or_punct_re, str(t.string))\n",
    "        for i, word in enumerate(pieces):\n",
    "            if not word_re.fullmatch(word):\n",
    "                continue\n",
    "            hyphenated = hyphenator(word)\n",
    "            pieces[i] = hyphenated\n",
    "        new = ''.join(pieces)\n",
    "        t.string.replace_with(new)\n"
   ]
  },
  {
   "cell_type": "code",
   "execution_count": null,
   "metadata": {},
   "outputs": [
    {
     "data": {
      "text/markdown": [
       "---\n",
       "\n",
       "[source](https://github.com/jkseppan/shyster/blob/main/shyster/html.py#L25){target=\"_blank\" style=\"float:right; font-size:smaller\"}\n",
       "\n",
       "### hyphenate_soup\n",
       "\n",
       ">      hyphenate_soup (soup:bs4.BeautifulSoup,\n",
       ">                      hyphenator:collections.abc.Callable[[str],str], exclude_c\n",
       ">                      lasses:tuple[typing.Type[bs4.element.PageElement],...]=(<\n",
       ">                      class 'bs4.element.PreformattedString'>, <class\n",
       ">                      'bs4.element.Stylesheet'>, <class 'bs4.element.Script'>,\n",
       ">                      <class 'bs4.element.RubyTextString'>, <class\n",
       ">                      'bs4.element.RubyParenthesisString'>))\n",
       "\n",
       "Call hyphenator on words that appear in suitable elements of soup,\n",
       "and replace the contents of those elements. Suitable elements are those\n",
       "containing text whose class is not (a subclass of something) in\n",
       "exclude_classes.\n",
       "\n",
       "|    | **Type** | **Default** | **Details** |\n",
       "| -- | -------- | ----------- | ----------- |\n",
       "| soup | BeautifulSoup |  | soup to be modified |\n",
       "| hyphenator | Callable |  | hyphenator |\n",
       "| exclude_classes | tuple | (<class 'bs4.element.PreformattedString'>, <class 'bs4.element.Stylesheet'>, <class 'bs4.element.Script'>, <class 'bs4.element.RubyTextString'>, <class 'bs4.element.RubyParenthesisString'>) | do not modify inside these |\n",
       "| **Returns** | **None** |  |  |"
      ],
      "text/plain": [
       "---\n",
       "\n",
       "[source](https://github.com/jkseppan/shyster/blob/main/shyster/html.py#L25){target=\"_blank\" style=\"float:right; font-size:smaller\"}\n",
       "\n",
       "### hyphenate_soup\n",
       "\n",
       ">      hyphenate_soup (soup:bs4.BeautifulSoup,\n",
       ">                      hyphenator:collections.abc.Callable[[str],str], exclude_c\n",
       ">                      lasses:tuple[typing.Type[bs4.element.PageElement],...]=(<\n",
       ">                      class 'bs4.element.PreformattedString'>, <class\n",
       ">                      'bs4.element.Stylesheet'>, <class 'bs4.element.Script'>,\n",
       ">                      <class 'bs4.element.RubyTextString'>, <class\n",
       ">                      'bs4.element.RubyParenthesisString'>))\n",
       "\n",
       "Call hyphenator on words that appear in suitable elements of soup,\n",
       "and replace the contents of those elements. Suitable elements are those\n",
       "containing text whose class is not (a subclass of something) in\n",
       "exclude_classes.\n",
       "\n",
       "|    | **Type** | **Default** | **Details** |\n",
       "| -- | -------- | ----------- | ----------- |\n",
       "| soup | BeautifulSoup |  | soup to be modified |\n",
       "| hyphenator | Callable |  | hyphenator |\n",
       "| exclude_classes | tuple | (<class 'bs4.element.PreformattedString'>, <class 'bs4.element.Stylesheet'>, <class 'bs4.element.Script'>, <class 'bs4.element.RubyTextString'>, <class 'bs4.element.RubyParenthesisString'>) | do not modify inside these |\n",
       "| **Returns** | **None** |  |  |"
      ]
     },
     "execution_count": null,
     "metadata": {},
     "output_type": "execute_result"
    }
   ],
   "source": [
    "show_doc(hyphenate_soup)"
   ]
  },
  {
   "cell_type": "code",
   "execution_count": null,
   "metadata": {},
   "outputs": [],
   "source": [
    "#| hide\n",
    "import nbdev; nbdev.nbdev_export()"
   ]
  },
  {
   "cell_type": "code",
   "execution_count": null,
   "metadata": {},
   "outputs": [],
   "source": []
  }
 ],
 "metadata": {
  "kernelspec": {
   "display_name": "Python 3 (ipykernel)",
   "language": "python",
   "name": "python3"
  }
 },
 "nbformat": 4,
 "nbformat_minor": 4
}
