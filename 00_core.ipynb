{
 "cells": [
  {
   "cell_type": "markdown",
   "metadata": {},
   "source": [
    "# core\n",
    "\n",
    "> Fill in a module description here"
   ]
  },
  {
   "cell_type": "code",
   "execution_count": null,
   "metadata": {},
   "outputs": [],
   "source": [
    "#| default_exp core"
   ]
  },
  {
   "cell_type": "code",
   "execution_count": null,
   "metadata": {},
   "outputs": [],
   "source": [
    "#| hide\n",
    "from nbdev.showdoc import *\n",
    "import itertools as it"
   ]
  },
  {
   "cell_type": "code",
   "execution_count": null,
   "metadata": {},
   "outputs": [],
   "source": [
    "#| export\n",
    "def add_hyphens(s, positions):\n",
    "    i0, i1 = it.tee(iter(positions))\n",
    "    i0 = it.chain((0,), i0)\n",
    "    i1 = it.chain(i1, (len(s),))\n",
    "    substrings = (s[p0:p1] for (p0,p1) in zip(i0, i1))\n",
    "    return '\\N{SOFT HYPHEN}'.join(substrings)"
   ]
  },
  {
   "cell_type": "code",
   "execution_count": null,
   "metadata": {},
   "outputs": [],
   "source": [
    "h = '\\N{SOFT HYPHEN}'\n",
    "assert add_hyphens('saippuakauppias', ()) == 'saippuakauppias'\n",
    "assert add_hyphens('saippuakauppias', (7,)) == f'saippua{h}kauppias'\n",
    "assert add_hyphens('saippuakauppias', (4, 7, 11)) == f'saip{h}pua{h}kaup{h}pias'\n",
    "assert add_hyphens('', ()) == ''"
   ]
  },
  {
   "cell_type": "code",
   "execution_count": null,
   "metadata": {},
   "outputs": [],
   "source": [
    "#| hide\n",
    "import nbdev; nbdev.nbdev_export()"
   ]
  }
 ],
 "metadata": {
  "kernelspec": {
   "display_name": "Python 3 (ipykernel)",
   "language": "python",
   "name": "python3"
  }
 },
 "nbformat": 4,
 "nbformat_minor": 4
}
