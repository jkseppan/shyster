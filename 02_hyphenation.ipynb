{
 "cells": [
  {
   "cell_type": "markdown",
   "id": "c6579dec",
   "metadata": {},
   "source": [
    "# 02_hyphenation\n",
    "\n",
    "> Hyphenator"
   ]
  },
  {
   "cell_type": "code",
   "execution_count": null,
   "id": "1ca3917e",
   "metadata": {},
   "outputs": [],
   "source": [
    "#| default_exp hyphenation"
   ]
  },
  {
   "cell_type": "code",
   "execution_count": null,
   "id": "59924da2",
   "metadata": {},
   "outputs": [],
   "source": [
    "#| hide\n",
    "from nbdev.showdoc import *"
   ]
  },
  {
   "cell_type": "code",
   "execution_count": null,
   "id": "1b4b5678",
   "metadata": {},
   "outputs": [],
   "source": [
    "#| exporti\n",
    "import re\n",
    "import itertools as it\n",
    "from collections.abc import Sequence, Mapping, Iterable\n",
    "from shyster.file import read_patterns\n",
    "from shyster.pattern import convert_patterns, convert_exceptions\n",
    "from pathlib import Path"
   ]
  },
  {
   "cell_type": "markdown",
   "id": "4bc1695d",
   "metadata": {},
   "source": [
    "First a simple function to add hyphens at given positions:"
   ]
  },
  {
   "cell_type": "code",
   "execution_count": null,
   "id": "6f96e56f",
   "metadata": {},
   "outputs": [],
   "source": [
    "#| exporti\n",
    "def add_hyphens(\n",
    "    s: str,  # word to hyphenate\n",
    "    positions: Sequence[int],  # positions to insert hyphens (increasing order)\n",
    "    hyphen: str='-'  # hyphen character\n",
    ") -> str:  # word with hyphens\n",
    "    i0, i1 = it.tee(iter(positions))\n",
    "    i0 = it.chain((0,), i0)\n",
    "    i1 = it.chain(i1, (len(s),))\n",
    "    substrings = (s[p0:p1] for (p0,p1) in zip(i0, i1))\n",
    "    return hyphen.join(substrings).strip(hyphen)"
   ]
  },
  {
   "cell_type": "code",
   "execution_count": null,
   "id": "a2d850c0",
   "metadata": {},
   "outputs": [
    {
     "data": {
      "text/markdown": [
       "---\n",
       "\n",
       "[source](https://github.com/jkseppan/shyster/blob/main/shyster/hyphenation.py#L12){target=\"_blank\" style=\"float:right; font-size:smaller\"}\n",
       "\n",
       "### add_hyphens\n",
       "\n",
       ">      add_hyphens (s:str, positions:collections.abc.Sequence[int],\n",
       ">                   hyphen:str='-')\n",
       "\n",
       "|    | **Type** | **Default** | **Details** |\n",
       "| -- | -------- | ----------- | ----------- |\n",
       "| s | str |  | word to hyphenate |\n",
       "| positions | Sequence |  | positions to insert hyphens (increasing order) |\n",
       "| hyphen | str | - | hyphen character |\n",
       "| **Returns** | **str** |  | **word with hyphens** |"
      ],
      "text/plain": [
       "---\n",
       "\n",
       "[source](https://github.com/jkseppan/shyster/blob/main/shyster/hyphenation.py#L12){target=\"_blank\" style=\"float:right; font-size:smaller\"}\n",
       "\n",
       "### add_hyphens\n",
       "\n",
       ">      add_hyphens (s:str, positions:collections.abc.Sequence[int],\n",
       ">                   hyphen:str='-')\n",
       "\n",
       "|    | **Type** | **Default** | **Details** |\n",
       "| -- | -------- | ----------- | ----------- |\n",
       "| s | str |  | word to hyphenate |\n",
       "| positions | Sequence |  | positions to insert hyphens (increasing order) |\n",
       "| hyphen | str | - | hyphen character |\n",
       "| **Returns** | **str** |  | **word with hyphens** |"
      ]
     },
     "execution_count": null,
     "metadata": {},
     "output_type": "execute_result"
    }
   ],
   "source": [
    "show_doc(add_hyphens)"
   ]
  },
  {
   "cell_type": "code",
   "execution_count": null,
   "id": "ea9c2f86",
   "metadata": {},
   "outputs": [],
   "source": [
    "assert add_hyphens('saippuakauppias', ()) == 'saippuakauppias'\n",
    "assert add_hyphens('saippuakauppias', (7,)) == 'saippua-kauppias'\n",
    "assert add_hyphens('saippuakauppias', (4, 7, 11)) == f'saip-pua-kaup-pias'\n",
    "assert add_hyphens('', ()) == ''"
   ]
  },
  {
   "cell_type": "markdown",
   "id": "bf929c9d",
   "metadata": {},
   "source": [
    "The following function implements the Liang hyphenation algorithm,\n",
    "given the patterns and exceptions. For each possible hyphenation slot,\n",
    "we take the maximum of all weights given by the patterns, and if\n",
    "the maximum is odd, we insert a hyphen. TeX has parameters called\n",
    "`\\lefthyphenmin` and `\\righthyphenmin`, with default values 2 and 3\n",
    "(respectively), meaning that hyphens with only one letter to their left\n",
    "or only one or two to their right are forbidden. The default patterns\n",
    "produce such hyphens so we must also filter them out."
   ]
  },
  {
   "cell_type": "code",
   "execution_count": null,
   "id": "34bcd59c",
   "metadata": {},
   "outputs": [],
   "source": [
    "#| export\n",
    "class hyphenator:\n",
    "    \"\"\"Hyphenates words\"\"\"\n",
    "    __slots__ = ('regex', 'mapping', 'exceptions', 'hyphen', 'lefthyphenmin', 'righthyphenmin')\n",
    "    regex: re.Pattern  # first return value from `pattern.convert_patterns`\n",
    "    mapping: Mapping[str, tuple[int,...]]  # second return value from `pattern.convert_patterns`\n",
    "    exceptions: Mapping[str, str]  # return value from `pattern.convert_exceptions`\n",
    "    hyphen: str  # hyphen character\n",
    "    lefthyphenmin: int  # at least this many characters before the first hyphen\n",
    "    righthyphenmin: int  # at least this many characters after the last hyphen\n",
    "\n",
    "    def __init__(\n",
    "        self,\n",
    "        initializer: (str   # filename of hyphen.tex, or an iterable of its lines, or None\n",
    "                      | Path\n",
    "                      | Iterable[str]\n",
    "                      | None),\n",
    "        hyphen: str='-',\n",
    "        lefthyphenmin: int=2,\n",
    "        righthyphenmin: int=3,\n",
    "    ):\n",
    "        if initializer is None:\n",
    "            # the user will set these up explicitly\n",
    "            self.regex = re.compile('')\n",
    "            self.mapping = {}\n",
    "            self.exceptions = {}\n",
    "        else:\n",
    "            f = None\n",
    "            if isinstance(initializer, (str, Path)):\n",
    "                f = open(initializer, 'rt')\n",
    "                it = f.readlines()\n",
    "            elif isinstance(initializer, Iterable):\n",
    "                it = initializer\n",
    "            else:\n",
    "                raise TypeError(f\"don't know how to use {type(initializer)}\")\n",
    "            pat, exc = read_patterns(it)\n",
    "            if f:\n",
    "                f.close()\n",
    "            self.regex, self.mapping = convert_patterns(pat)\n",
    "            self.exceptions = convert_exceptions(exc)\n",
    "            \n",
    "        self.hyphen = hyphen\n",
    "        self.lefthyphenmin = lefthyphenmin\n",
    "        self.righthyphenmin = righthyphenmin\n",
    "    \n",
    "    def __call__(self, word: str):\n",
    "        return self.hyphenate(word)\n",
    "        \n",
    "    def hyphenate(self, word: str) -> str:\n",
    "        if (result := self.exceptions.get(word)):\n",
    "            return result.replace('-', self.hyphen)\n",
    "        word = f'\\x1f{word}\\x1f'\n",
    "        weights = bytearray(len(word))\n",
    "        for match in self.regex.finditer(word):\n",
    "            pos = match.span()[0]-1\n",
    "            key = match.group(1)\n",
    "            rule = self.mapping[key]\n",
    "            for i, w in enumerate(rule):\n",
    "                weights[pos+i] = max(weights[pos+i], w)\n",
    "        positions = (i for (i,w) in enumerate(weights)\n",
    "                     if w&1==1 and i>=self.lefthyphenmin and i<=len(word)-2-self.righthyphenmin)\n",
    "        return add_hyphens(word[1:-1], positions, hyphen=self.hyphen)\n"
   ]
  },
  {
   "cell_type": "code",
   "execution_count": null,
   "id": "18578f47",
   "metadata": {},
   "outputs": [],
   "source": []
  },
  {
   "cell_type": "code",
   "execution_count": null,
   "id": "ad17d768",
   "metadata": {},
   "outputs": [],
   "source": []
  },
  {
   "cell_type": "code",
   "execution_count": null,
   "id": "102fb673",
   "metadata": {},
   "outputs": [],
   "source": []
  },
  {
   "cell_type": "code",
   "execution_count": null,
   "id": "3fb176f0",
   "metadata": {},
   "outputs": [],
   "source": [
    "#| hide\n",
    "import nbdev; nbdev.nbdev_export()"
   ]
  }
 ],
 "metadata": {
  "kernelspec": {
   "display_name": "Python 3 (ipykernel)",
   "language": "python",
   "name": "python3"
  }
 },
 "nbformat": 4,
 "nbformat_minor": 5
}
