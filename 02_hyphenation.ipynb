{
 "cells": [
  {
   "cell_type": "markdown",
   "id": "e1e4f7c2",
   "metadata": {},
   "source": [
    "# 02_hyphenation\n",
    "\n",
    "> Hyphenator"
   ]
  },
  {
   "cell_type": "code",
   "execution_count": null,
   "id": "7833889c",
   "metadata": {},
   "outputs": [],
   "source": [
    "#| default_exp hyphenation"
   ]
  },
  {
   "cell_type": "code",
   "execution_count": null,
   "id": "7390c066",
   "metadata": {},
   "outputs": [],
   "source": [
    "#| hide\n",
    "from nbdev.showdoc import *"
   ]
  },
  {
   "cell_type": "code",
   "execution_count": null,
   "id": "17a75ebf",
   "metadata": {},
   "outputs": [],
   "source": [
    "#| export\n",
    "import re\n",
    "import itertools as it\n",
    "from collections.abc import Sequence, Mapping, Callable"
   ]
  },
  {
   "cell_type": "markdown",
   "id": "46005e53",
   "metadata": {},
   "source": [
    "First a simple function to add hyphens at given positions:"
   ]
  },
  {
   "cell_type": "code",
   "execution_count": null,
   "id": "ef0dc24c",
   "metadata": {},
   "outputs": [],
   "source": [
    "#| exporti\n",
    "def add_hyphens(\n",
    "    s: str,  # word to hyphenate\n",
    "    positions: Sequence[int],  # positions to insert hyphens (increasing order)\n",
    "    hyphen: str='-'  # hyphen character\n",
    ") -> str:  # word with hyphens\n",
    "    i0, i1 = it.tee(iter(positions))\n",
    "    i0 = it.chain((0,), i0)\n",
    "    i1 = it.chain(i1, (len(s),))\n",
    "    substrings = (s[p0:p1] for (p0,p1) in zip(i0, i1))\n",
    "    return hyphen.join(substrings).strip(hyphen)"
   ]
  },
  {
   "cell_type": "code",
   "execution_count": null,
   "id": "93e723a8",
   "metadata": {},
   "outputs": [
    {
     "data": {
      "text/markdown": [
       "---\n",
       "\n",
       "[source](https://github.com/jkseppan/shyster/blob/main/shyster/hyphenation.py#L7){target=\"_blank\" style=\"float:right; font-size:smaller\"}\n",
       "\n",
       "### add_hyphens\n",
       "\n",
       ">      add_hyphens (s:str, positions:collections.abc.Sequence[int],\n",
       ">                   hyphen:str='-')\n",
       "\n",
       "|    | **Type** | **Default** | **Details** |\n",
       "| -- | -------- | ----------- | ----------- |\n",
       "| s | str |  | word to hyphenate |\n",
       "| positions | Sequence |  | positions to insert hyphens (increasing order) |\n",
       "| hyphen | str | - | hyphen character |\n",
       "| **Returns** | **str** |  | **word with hyphens** |"
      ],
      "text/plain": [
       "---\n",
       "\n",
       "[source](https://github.com/jkseppan/shyster/blob/main/shyster/hyphenation.py#L7){target=\"_blank\" style=\"float:right; font-size:smaller\"}\n",
       "\n",
       "### add_hyphens\n",
       "\n",
       ">      add_hyphens (s:str, positions:collections.abc.Sequence[int],\n",
       ">                   hyphen:str='-')\n",
       "\n",
       "|    | **Type** | **Default** | **Details** |\n",
       "| -- | -------- | ----------- | ----------- |\n",
       "| s | str |  | word to hyphenate |\n",
       "| positions | Sequence |  | positions to insert hyphens (increasing order) |\n",
       "| hyphen | str | - | hyphen character |\n",
       "| **Returns** | **str** |  | **word with hyphens** |"
      ]
     },
     "execution_count": null,
     "metadata": {},
     "output_type": "execute_result"
    }
   ],
   "source": [
    "show_doc(add_hyphens)"
   ]
  },
  {
   "cell_type": "code",
   "execution_count": null,
   "id": "9cdd210b",
   "metadata": {},
   "outputs": [],
   "source": [
    "assert add_hyphens('saippuakauppias', ()) == 'saippuakauppias'\n",
    "assert add_hyphens('saippuakauppias', (7,)) == 'saippua-kauppias'\n",
    "assert add_hyphens('saippuakauppias', (4, 7, 11)) == f'saip-pua-kaup-pias'\n",
    "assert add_hyphens('', ()) == ''"
   ]
  },
  {
   "cell_type": "markdown",
   "id": "40e14f43",
   "metadata": {},
   "source": [
    "The following function implements the Liang hyphenation algorithm,\n",
    "given the patterns and exceptions. For each possible hyphenation slot,\n",
    "we take the maximum of all weights given by the patterns, and if\n",
    "the maximum is odd, we insert a hyphen."
   ]
  },
  {
   "cell_type": "code",
   "execution_count": null,
   "id": "503efc8c",
   "metadata": {},
   "outputs": [],
   "source": [
    "#| export\n",
    "def hyphenator(\n",
    "    regex: re.Pattern,  # first return value from `pattern.convert_patterns`\n",
    "    mapping: Mapping[str, str],  # second return value from `pattern.convert_patterns`\n",
    "    exceptions: Mapping[str, str],  # return value from `pattern.convert_exceptions`\n",
    "    hyphen: str='-'  # hyphen character\n",
    ") -> Callable[[str], str]:  # function that hyphenates words\n",
    "    def fun(word):\n",
    "        if (result := exceptions.get(word)):\n",
    "            return result\n",
    "        word = f'\\x1f{word}\\x1f'\n",
    "        weights = bytearray(len(word))\n",
    "        for match in regex.finditer(word):\n",
    "            pos = match.span()[0]-1\n",
    "            key = match.group(1)\n",
    "            rule = mapping[key]\n",
    "            for i, w in enumerate(rule):\n",
    "                weights[pos+i] = max(weights[pos+i], w)\n",
    "        return add_hyphens(word[1:-1], (i for (i,w) in enumerate(weights) if w&1==1), hyphen=hyphen)\n",
    "    return fun"
   ]
  },
  {
   "cell_type": "code",
   "execution_count": null,
   "id": "6af68813",
   "metadata": {},
   "outputs": [
    {
     "data": {
      "text/markdown": [
       "---\n",
       "\n",
       "[source](https://github.com/jkseppan/shyster/blob/main/shyster/hyphenation.py#L15){target=\"_blank\" style=\"float:right; font-size:smaller\"}\n",
       "\n",
       "### hyphenator\n",
       "\n",
       ">      hyphenator (regex:re.Pattern, mapping:collections.abc.Mapping[str,str],\n",
       ">                  exceptions:collections.abc.Mapping[str,str], hyphen:str='-')\n",
       "\n",
       "|    | **Type** | **Default** | **Details** |\n",
       "| -- | -------- | ----------- | ----------- |\n",
       "| regex | Pattern |  | first return value from `pattern.convert_patterns` |\n",
       "| mapping | Mapping |  | second return value from `pattern.convert_patterns` |\n",
       "| exceptions | Mapping |  | return value from `pattern.convert_exceptions` |\n",
       "| hyphen | str | - | hyphen character |\n",
       "| **Returns** | **Callable** |  | **function that hyphenates words** |"
      ],
      "text/plain": [
       "---\n",
       "\n",
       "[source](https://github.com/jkseppan/shyster/blob/main/shyster/hyphenation.py#L15){target=\"_blank\" style=\"float:right; font-size:smaller\"}\n",
       "\n",
       "### hyphenator\n",
       "\n",
       ">      hyphenator (regex:re.Pattern, mapping:collections.abc.Mapping[str,str],\n",
       ">                  exceptions:collections.abc.Mapping[str,str], hyphen:str='-')\n",
       "\n",
       "|    | **Type** | **Default** | **Details** |\n",
       "| -- | -------- | ----------- | ----------- |\n",
       "| regex | Pattern |  | first return value from `pattern.convert_patterns` |\n",
       "| mapping | Mapping |  | second return value from `pattern.convert_patterns` |\n",
       "| exceptions | Mapping |  | return value from `pattern.convert_exceptions` |\n",
       "| hyphen | str | - | hyphen character |\n",
       "| **Returns** | **Callable** |  | **function that hyphenates words** |"
      ]
     },
     "execution_count": null,
     "metadata": {},
     "output_type": "execute_result"
    }
   ],
   "source": [
    "show_doc(hyphenator)"
   ]
  },
  {
   "cell_type": "code",
   "execution_count": null,
   "id": "29e0d463",
   "metadata": {},
   "outputs": [],
   "source": [
    "#| hide\n",
    "import nbdev; nbdev.nbdev_export()"
   ]
  },
  {
   "cell_type": "code",
   "execution_count": null,
   "id": "c6ac545c",
   "metadata": {},
   "outputs": [],
   "source": []
  }
 ],
 "metadata": {
  "kernelspec": {
   "display_name": "Python 3 (ipykernel)",
   "language": "python",
   "name": "python3"
  }
 },
 "nbformat": 4,
 "nbformat_minor": 5
}
