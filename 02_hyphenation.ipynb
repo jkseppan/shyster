{
 "cells": [
  {
   "cell_type": "markdown",
   "id": "3b8b8971",
   "metadata": {},
   "source": [
    "# 02_hyphenation\n",
    "\n",
    "> Hyphenator"
   ]
  },
  {
   "cell_type": "code",
   "execution_count": null,
   "id": "ba1e6343",
   "metadata": {},
   "outputs": [],
   "source": [
    "#| default_exp hyphenation"
   ]
  },
  {
   "cell_type": "code",
   "execution_count": null,
   "id": "1ad77f6a",
   "metadata": {},
   "outputs": [],
   "source": [
    "#| hide\n",
    "from nbdev.showdoc import *\n",
    "import re\n",
    "import itertools as it"
   ]
  },
  {
   "cell_type": "code",
   "execution_count": null,
   "id": "e429c830",
   "metadata": {},
   "outputs": [],
   "source": [
    "#| exporti\n",
    "def add_hyphens(s, positions, hyphen='-'):\n",
    "    i0, i1 = it.tee(iter(positions))\n",
    "    i0 = it.chain((0,), i0)\n",
    "    i1 = it.chain(i1, (len(s),))\n",
    "    substrings = (s[p0:p1] for (p0,p1) in zip(i0, i1))\n",
    "    return hyphen.join(substrings).strip(hyphen)"
   ]
  },
  {
   "cell_type": "code",
   "execution_count": null,
   "id": "8ddfb999",
   "metadata": {},
   "outputs": [],
   "source": [
    "assert add_hyphens('saippuakauppias', ()) == 'saippuakauppias'\n",
    "assert add_hyphens('saippuakauppias', (7,)) == 'saippua-kauppias'\n",
    "assert add_hyphens('saippuakauppias', (4, 7, 11)) == f'saip-pua-kaup-pias'\n",
    "assert add_hyphens('', ()) == ''"
   ]
  },
  {
   "cell_type": "code",
   "execution_count": null,
   "id": "bdcdcbcd",
   "metadata": {},
   "outputs": [],
   "source": [
    "#| export\n",
    "def hyphenator(regex, mapping, exceptions, hyphen='-'):\n",
    "    def fun(word):\n",
    "        if (result := exceptions.get(word)):\n",
    "            return result\n",
    "        word = f'\\x1f{word}\\x1f'\n",
    "        weights = bytearray(len(word))\n",
    "        for match in regex.finditer(word):\n",
    "            pos = match.span()[0]-1\n",
    "            key = match.group(1)\n",
    "            rule = mapping[key]\n",
    "            for i, w in enumerate(rule):\n",
    "                weights[pos+i] = max(weights[pos+i], w)\n",
    "        return add_hyphens(word[1:-1], (i for (i,w) in enumerate(weights) if w&1==1), hyphen=hyphen)\n",
    "    return fun"
   ]
  },
  {
   "cell_type": "code",
   "execution_count": null,
   "id": "e1d027f5",
   "metadata": {},
   "outputs": [],
   "source": [
    "#| hide\n",
    "import nbdev; nbdev.nbdev_export()"
   ]
  },
  {
   "cell_type": "code",
   "execution_count": null,
   "id": "a7da99aa",
   "metadata": {},
   "outputs": [],
   "source": []
  }
 ],
 "metadata": {
  "kernelspec": {
   "display_name": "Python 3 (ipykernel)",
   "language": "python",
   "name": "python3"
  }
 },
 "nbformat": 4,
 "nbformat_minor": 5
}
