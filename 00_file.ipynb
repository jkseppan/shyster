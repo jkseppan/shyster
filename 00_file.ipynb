{
 "cells": [
  {
   "cell_type": "markdown",
   "metadata": {},
   "source": [
    "# 00_file\n",
    "\n",
    "> File input"
   ]
  },
  {
   "cell_type": "code",
   "execution_count": null,
   "metadata": {},
   "outputs": [],
   "source": [
    "#| default_exp file"
   ]
  },
  {
   "cell_type": "code",
   "execution_count": null,
   "metadata": {},
   "outputs": [],
   "source": [
    "#| hide\n",
    "from nbdev.showdoc import *\n",
    "import re"
   ]
  },
  {
   "cell_type": "code",
   "execution_count": null,
   "metadata": {},
   "outputs": [],
   "source": [
    "#|export\n",
    "def read_patterns(lines):\n",
    "    comment = re.compile(r' *%.*')\n",
    "    state = 0\n",
    "    patterns = []\n",
    "    exceptions = []\n",
    "    for line in lines:\n",
    "        line = line.strip()\n",
    "        line = comment.sub('', line)\n",
    "        nextstate = state\n",
    "        if line == r'\\patterns{':\n",
    "            state = 1\n",
    "            continue\n",
    "        if line == r'\\hyphenation{':\n",
    "            state = 2\n",
    "            continue\n",
    "        if '}' in line:\n",
    "            line = re.sub(r'}.*', '', line)\n",
    "            nextstate = 0\n",
    "        if not line:\n",
    "            continue           \n",
    "        if state == 1:\n",
    "            patterns.extend(line.split())\n",
    "        elif state == 2:\n",
    "            exceptions.extend(line.split())\n",
    "        state = nextstate\n",
    "    return patterns, exceptions"
   ]
  },
  {
   "cell_type": "code",
   "execution_count": null,
   "metadata": {},
   "outputs": [],
   "source": [
    "assert read_patterns(r'''\n",
    "% foo\n",
    "\\patterns{\n",
    "1ba alous1\n",
    "1be % foobar\n",
    "ch2r}\n",
    "\\hyphenation{\n",
    "saippua-kauppias\n",
    "}\n",
    "'''.splitlines()) == (['1ba', 'alous1', '1be', 'ch2r'], ['saippua-kauppias'])"
   ]
  },
  {
   "cell_type": "code",
   "execution_count": null,
   "metadata": {},
   "outputs": [],
   "source": [
    "#| hide\n",
    "import nbdev; nbdev.nbdev_export()"
   ]
  }
 ],
 "metadata": {
  "kernelspec": {
   "display_name": "Python 3 (ipykernel)",
   "language": "python",
   "name": "python3"
  }
 },
 "nbformat": 4,
 "nbformat_minor": 4
}
