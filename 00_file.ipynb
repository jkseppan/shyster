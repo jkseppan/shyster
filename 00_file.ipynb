{
 "cells": [
  {
   "cell_type": "markdown",
   "metadata": {},
   "source": [
    "# 00_file\n",
    "\n",
    "> File input"
   ]
  },
  {
   "cell_type": "code",
   "execution_count": null,
   "metadata": {},
   "outputs": [],
   "source": [
    "#| default_exp file"
   ]
  },
  {
   "cell_type": "code",
   "execution_count": null,
   "metadata": {},
   "outputs": [],
   "source": [
    "#| hide\n",
    "from nbdev.showdoc import *"
   ]
  },
  {
   "cell_type": "code",
   "execution_count": null,
   "metadata": {},
   "outputs": [],
   "source": [
    "#| export\n",
    "from collections.abc import Iterable, Sequence\n",
    "import re"
   ]
  },
  {
   "cell_type": "markdown",
   "metadata": {},
   "source": [
    "TeX hyphenation patterns look like this:\n",
    "\n",
    "```\n",
    "% this is a comment\n",
    "\\patterns{\n",
    "pattern  % could have comments on lines\n",
    "another\n",
    "maybe many words per line}  % that brace ends the patterns\n",
    "\\hyphenation{ % and now the exceptions\n",
    "word\n",
    "anoth-er\n",
    "}\n",
    "```"
   ]
  },
  {
   "cell_type": "code",
   "execution_count": null,
   "metadata": {},
   "outputs": [],
   "source": [
    "#|export\n",
    "def read_patterns(\n",
    "    lines: Iterable[str] # e.g. open('hyph-fi.tex').readlines()\n",
    ") -> tuple[Sequence[str], Sequence[str]]: # patterns and exceptions\n",
    "    \"\"\"Read a TeX hyphenation pattern file; not a complete parser but hopefully enough\n",
    "    for hyph-*.tex\"\"\"\n",
    "    comment = re.compile(r' *%.*')\n",
    "    state = 0\n",
    "    patterns = []\n",
    "    exceptions = []\n",
    "    for line in lines:\n",
    "        line = line.strip()\n",
    "        line = comment.sub('', line)\n",
    "        nextstate = state\n",
    "        if line == r'\\patterns{':\n",
    "            state = 1\n",
    "            continue\n",
    "        if line == r'\\hyphenation{':\n",
    "            state = 2\n",
    "            continue\n",
    "        if '}' in line:\n",
    "            line = re.sub(r'}.*', '', line)\n",
    "            nextstate = 0\n",
    "        if not line:\n",
    "            continue           \n",
    "        if state == 1:\n",
    "            patterns.extend(line.split())\n",
    "        elif state == 2:\n",
    "            exceptions.extend(line.split())\n",
    "        state = nextstate\n",
    "    return patterns, exceptions"
   ]
  },
  {
   "cell_type": "code",
   "execution_count": null,
   "metadata": {},
   "outputs": [
    {
     "data": {
      "text/markdown": [
       "---\n",
       "\n",
       "[source](https://github.com/jkseppan/shyster/blob/main/shyster/file.py#L11){target=\"_blank\" style=\"float:right; font-size:smaller\"}\n",
       "\n",
       "### read_patterns\n",
       "\n",
       ">      read_patterns (lines:collections.abc.Iterable[str])\n",
       "\n",
       "Read a TeX hyphenation pattern file; not a complete parser but hopefully enough\n",
       "for hyph-*.tex\n",
       "\n",
       "|    | **Type** | **Details** |\n",
       "| -- | -------- | ----------- |\n",
       "| lines | Iterable | e.g. open('hyph-fi.tex').readlines() |\n",
       "| **Returns** | **tuple** | **patterns and exceptions** |"
      ],
      "text/plain": [
       "---\n",
       "\n",
       "[source](https://github.com/jkseppan/shyster/blob/main/shyster/file.py#L11){target=\"_blank\" style=\"float:right; font-size:smaller\"}\n",
       "\n",
       "### read_patterns\n",
       "\n",
       ">      read_patterns (lines:collections.abc.Iterable[str])\n",
       "\n",
       "Read a TeX hyphenation pattern file; not a complete parser but hopefully enough\n",
       "for hyph-*.tex\n",
       "\n",
       "|    | **Type** | **Details** |\n",
       "| -- | -------- | ----------- |\n",
       "| lines | Iterable | e.g. open('hyph-fi.tex').readlines() |\n",
       "| **Returns** | **tuple** | **patterns and exceptions** |"
      ]
     },
     "execution_count": null,
     "metadata": {},
     "output_type": "execute_result"
    }
   ],
   "source": [
    "#|hide\n",
    "show_doc(read_patterns)"
   ]
  },
  {
   "cell_type": "code",
   "execution_count": null,
   "metadata": {},
   "outputs": [],
   "source": [
    "assert read_patterns(r'''\n",
    "% foo\n",
    "\\patterns{\n",
    "1ba alous1\n",
    "1be % foobar\n",
    "ch2r}\n",
    "\\hyphenation{\n",
    "saippua-kauppias\n",
    "}\n",
    "'''.splitlines()) == (['1ba', 'alous1', '1be', 'ch2r'], ['saippua-kauppias'])"
   ]
  },
  {
   "cell_type": "code",
   "execution_count": null,
   "metadata": {},
   "outputs": [],
   "source": [
    "#| hide\n",
    "import nbdev; nbdev.nbdev_export()"
   ]
  }
 ],
 "metadata": {
  "kernelspec": {
   "display_name": "Python 3 (ipykernel)",
   "language": "python",
   "name": "python3"
  }
 },
 "nbformat": 4,
 "nbformat_minor": 4
}
